{
 "cells": [
  {
   "cell_type": "code",
   "execution_count": 2,
   "metadata": {
    "collapsed": true
   },
   "outputs": [
    {
     "data": {
      "text/plain": "array([[1, 2, 3],\n       [4, 5, 6]])"
     },
     "execution_count": 2,
     "metadata": {},
     "output_type": "execute_result"
    }
   ],
   "source": [
    "import numpy as np\n",
    "\n",
    "x = np.array([[1,2,3],[4,5,6]])\n",
    "x"
   ]
  },
  {
   "cell_type": "code",
   "execution_count": 3,
   "outputs": [
    {
     "data": {
      "text/plain": "array([ 9, 24])"
     },
     "execution_count": 3,
     "metadata": {},
     "output_type": "execute_result"
    }
   ],
   "source": [
    "x.dot([2,2,1])"
   ],
   "metadata": {
    "collapsed": false,
    "pycharm": {
     "name": "#%%\n"
    }
   }
  },
  {
   "cell_type": "code",
   "execution_count": 4,
   "outputs": [
    {
     "data": {
      "text/plain": "array([[1, 2, 3],\n       [0, 0, 0]])"
     },
     "execution_count": 4,
     "metadata": {},
     "output_type": "execute_result"
    }
   ],
   "source": [
    "x * [[1],[0]]"
   ],
   "metadata": {
    "collapsed": false,
    "pycharm": {
     "name": "#%%\n"
    }
   }
  },
  {
   "cell_type": "code",
   "execution_count": 7,
   "outputs": [
    {
     "data": {
      "text/plain": "100.0"
     },
     "execution_count": 7,
     "metadata": {},
     "output_type": "execute_result"
    }
   ],
   "source": [
    "import scipy.constants\n",
    "fahrenheit = 212\n",
    "scipy.constants.convert_temperature(fahrenheit, 'Fahrenheit', 'Celsius')"
   ],
   "metadata": {
    "collapsed": false,
    "pycharm": {
     "name": "#%%\n"
    }
   }
  },
  {
   "cell_type": "code",
   "execution_count": 8,
   "outputs": [
    {
     "data": {
      "text/plain": "(9.1093837015e-31, 'kg', 2.8e-40)"
     },
     "execution_count": 8,
     "metadata": {},
     "output_type": "execute_result"
    }
   ],
   "source": [
    "scipy.constants.physical_constants['electron mass']"
   ],
   "metadata": {
    "collapsed": false,
    "pycharm": {
     "name": "#%%\n"
    }
   }
  },
  {
   "cell_type": "code",
   "execution_count": 9,
   "outputs": [
    {
     "name": "stdout",
     "output_type": "stream",
     "text": [
      "         3 [True, True, True, True]\n",
      "       2/3 [True, True, True, False]\n",
      "       2.7 [True, True, False, False]\n",
      "    (1+2j) [True, False, False, False]\n",
      "  1.110000 [False, False, False, False]\n"
     ]
    }
   ],
   "source": [
    "import decimal\n",
    "import fractions\n",
    "from numbers import Complex, Real, Rational, Integral\n",
    "\n",
    "d = decimal.Decimal(1.11, decimal.Context(prec=5))  # precision\n",
    "\n",
    "for x in (3, fractions.Fraction(2,3), 2.7, complex(1,2), d):\n",
    "    print('{:>10}'.format(str(x)[:8]),\n",
    "          [isinstance(x, y) for y in (Complex, Real, Rational, Integral)])"
   ],
   "metadata": {
    "collapsed": false,
    "pycharm": {
     "name": "#%%\n"
    }
   }
  },
  {
   "cell_type": "code",
   "execution_count": 10,
   "outputs": [
    {
     "data": {
      "text/plain": "sqrt(2)*exp(-x**2/2)/(2*sqrt(pi))",
      "text/latex": "$\\displaystyle \\frac{\\sqrt{2} e^{- \\frac{x^{2}}{2}}}{2 \\sqrt{\\pi}}$"
     },
     "execution_count": 10,
     "metadata": {},
     "output_type": "execute_result"
    }
   ],
   "source": [
    "import sympy as sym\n",
    "\n",
    "x = sym.Symbol('x')\n",
    "f = sym.exp(-x**2/2) / sym.sqrt(2 * sym.pi)\n",
    "f"
   ],
   "metadata": {
    "collapsed": false,
    "pycharm": {
     "name": "#%%\n"
    }
   }
  },
  {
   "cell_type": "code",
   "execution_count": 11,
   "outputs": [
    {
     "data": {
      "text/plain": "erf(sqrt(2)*x/2)/2",
      "text/latex": "$\\displaystyle \\frac{\\operatorname{erf}{\\left(\\frac{\\sqrt{2} x}{2} \\right)}}{2}$"
     },
     "execution_count": 11,
     "metadata": {},
     "output_type": "execute_result"
    }
   ],
   "source": [
    "sym.integrate(f, x)"
   ],
   "metadata": {
    "collapsed": false,
    "pycharm": {
     "name": "#%%\n"
    }
   }
  },
  {
   "cell_type": "code",
   "execution_count": 12,
   "outputs": [
    {
     "data": {
      "text/plain": "0.682689492137086",
      "text/latex": "$\\displaystyle 0.682689492137086$"
     },
     "execution_count": 12,
     "metadata": {},
     "output_type": "execute_result"
    }
   ],
   "source": [
    "sym.N(sym.integrate(f, (x, -1, 1)))"
   ],
   "metadata": {
    "collapsed": false,
    "pycharm": {
     "name": "#%%\n"
    }
   }
  },
  {
   "cell_type": "code",
   "execution_count": 13,
   "outputs": [
    {
     "data": {
      "text/plain": "'GRÜNWALDER STRASSE'"
     },
     "execution_count": 13,
     "metadata": {},
     "output_type": "execute_result"
    }
   ],
   "source": [
    "'Grünwalder Straße'.upper()"
   ],
   "metadata": {
    "collapsed": false,
    "pycharm": {
     "name": "#%%\n"
    }
   }
  },
  {
   "cell_type": "code",
   "execution_count": 14,
   "outputs": [
    {
     "data": {
      "text/plain": "'grünwalder straße'"
     },
     "execution_count": 14,
     "metadata": {},
     "output_type": "execute_result"
    }
   ],
   "source": [
    "'Grünwalder Straße'.lower()"
   ],
   "metadata": {
    "collapsed": false,
    "pycharm": {
     "name": "#%%\n"
    }
   }
  },
  {
   "cell_type": "code",
   "execution_count": 15,
   "outputs": [
    {
     "data": {
      "text/plain": "'grünwalder strasse'"
     },
     "execution_count": 15,
     "metadata": {},
     "output_type": "execute_result"
    }
   ],
   "source": [
    "'Grünwalder Straße'.casefold()"
   ],
   "metadata": {
    "collapsed": false,
    "pycharm": {
     "name": "#%%\n"
    }
   }
  },
  {
   "cell_type": "code",
   "execution_count": 16,
   "outputs": [
    {
     "data": {
      "text/plain": "['Phoenix']"
     },
     "execution_count": 16,
     "metadata": {},
     "output_type": "execute_result"
    }
   ],
   "source": [
    "import difflib\n",
    "capitals = ('Montgomery', 'Juneau', 'Phoenix', 'Little Rock')\n",
    "difflib.get_close_matches('Fenix', capitals)"
   ],
   "metadata": {
    "collapsed": false,
    "pycharm": {
     "name": "#%%\n"
    }
   }
  },
  {
   "cell_type": "code",
   "execution_count": 23,
   "outputs": [
    {
     "name": "stderr",
     "output_type": "stream",
     "text": [
      "[nltk_data] Downloading package punkt to /home/af/Dokumenter/Programs/\n",
      "[nltk_data]     miniconda3/envs/HitchhikersGuide2Python-\n",
      "[nltk_data]     py38/nltk_data...\n",
      "[nltk_data]   Unzipping tokenizers/punkt.zip.\n"
     ]
    },
    {
     "data": {
      "text/plain": "True"
     },
     "execution_count": 23,
     "metadata": {},
     "output_type": "execute_result"
    }
   ],
   "source": [
    "import nltk\n",
    "nltk.download('punkt', download_dir='/home/af/Dokumenter/Programs/miniconda3/envs/HitchhikersGuide2Python-py38/nltk_data')"
   ],
   "metadata": {
    "collapsed": false,
    "pycharm": {
     "name": "#%%\n"
    }
   }
  },
  {
   "cell_type": "code",
   "execution_count": 24,
   "outputs": [
    {
     "name": "stdout",
     "output_type": "stream",
     "text": [
      "       ('better', 'than'): ********\n",
      "         ('is', 'better'): *******\n",
      "            ('one', '--'): **\n",
      "            ('if', 'the'): **\n",
      "('the', 'implementation'): **\n",
      " ('implementation', 'is'): **\n",
      "        ('to', 'explain'): **\n",
      "        ('explain', 'it'): **\n"
     ]
    }
   ],
   "source": [
    "import nltk\n",
    "from nltk.corpus import stopwords\n",
    "import string\n",
    "\n",
    "stopwords.ensure_loaded()\n",
    "text = open('../data/zen.txt').read()\n",
    "tokens = [\n",
    "    t.casefold() for t in nltk.tokenize.word_tokenize(text)\n",
    "    if t not in string.punctuation\n",
    "]\n",
    "\n",
    "counter = {}\n",
    "for bigram in nltk.bigrams(tokens):\n",
    "    counter[bigram] = 1 if bigram not in counter else counter[bigram] + 1\n",
    "\n",
    "def print_counts(counter):  # We'll reuse this\n",
    "    for ngram, count in sorted(\n",
    "            counter.items(), key=lambda kv: kv[1], reverse=True):\n",
    "        if count > 1:\n",
    "            print('{:>25}: {}'.format(str(ngram), '*' * count))\n",
    "\n",
    "print_counts(counter)"
   ],
   "metadata": {
    "collapsed": false,
    "pycharm": {
     "name": "#%%\n"
    }
   }
  },
  {
   "cell_type": "code",
   "execution_count": 25,
   "outputs": [
    {
     "data": {
      "text/plain": "[('better', 8), ('although', 3), ('never', 3), ('--', 3), ('idea', 3)]"
     },
     "execution_count": 25,
     "metadata": {},
     "output_type": "execute_result"
    }
   ],
   "source": [
    "kept_tokens = [t for t in tokens if t not in stopwords.words()]\n",
    "\n",
    "from collections import Counter\n",
    "c = Counter(kept_tokens)\n",
    "c.most_common(5)"
   ],
   "metadata": {
    "collapsed": false,
    "pycharm": {
     "name": "#%%\n"
    }
   }
  },
  {
   "cell_type": "code",
   "execution_count": 27,
   "outputs": [],
   "source": [
    "from PIL import Image, ImageFilter\n",
    "# Read image\n",
    "im = Image.open( '../data/image.jpeg' )\n",
    "# Display image\n",
    "im.show()\n",
    "\n",
    "# Applying a filter to the image\n",
    "im_sharp = im.filter( ImageFilter.SHARPEN )\n",
    "#Saving the filtered image to a new file\n",
    "im_sharp.save( '../data/image_sharpened.jpeg', 'JPEG' )\n",
    "\n",
    "# Splitting the image into its respective bands (i.e., Red, Green,\n",
    "# and Blue for RGB)\n",
    "r,g,b = im_sharp.split()\n",
    "\n",
    "# Viewing EXIF data embedded in image\n",
    "exif_data = im._getexif()\n",
    "exif_data"
   ],
   "metadata": {
    "collapsed": false,
    "pycharm": {
     "name": "#%%\n"
    }
   }
  },
  {
   "cell_type": "code",
   "execution_count": null,
   "outputs": [],
   "source": [
    "from cv2 import *\n",
    "import numpy as np\n",
    "#Read Image\n",
    "img = cv2.imread('../data/testimg.jpeg')\n",
    "#Display Image\n",
    "cv2.imshow('image',img)\n",
    "cv2.waitKey(0)\n",
    "cv2.destroyAllWindows()\n",
    "\n",
    "#Applying Grayscale filter to image\n",
    "gray = cv2.cvtColor(img, cv2.COLOR_BGR2GRAY)\n",
    "\n",
    "#Saving filtered image to new file\n",
    "cv2.imwrite('../data/graytest.jpeg',gray)\n"
   ],
   "metadata": {
    "collapsed": false,
    "pycharm": {
     "name": "#%%\n"
    }
   }
  }
 ],
 "metadata": {
  "kernelspec": {
   "display_name": "Python 3",
   "language": "python",
   "name": "python3"
  },
  "language_info": {
   "codemirror_mode": {
    "name": "ipython",
    "version": 2
   },
   "file_extension": ".py",
   "mimetype": "text/x-python",
   "name": "python",
   "nbconvert_exporter": "python",
   "pygments_lexer": "ipython2",
   "version": "2.7.6"
  }
 },
 "nbformat": 4,
 "nbformat_minor": 0
}