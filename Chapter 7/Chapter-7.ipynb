{
 "cells": [
  {
   "cell_type": "code",
   "execution_count": 1,
   "metadata": {
    "collapsed": true
   },
   "outputs": [],
   "source": [
    "import argparse\n",
    "#\n",
    "# ... skip a lot of code ...\n",
    "#\n",
    "\n",
    "def get_parser():\n",
    "    parser = argparse.ArgumentParser(description='...truncated for brevity...')\n",
    "    parser.add_argument('query', metavar='QUERY', type=str, nargs='*',\n",
    "                        help='the question to answer')\n",
    "    parser.add_argument('-p','--pos',\n",
    "                        help='select answer in specified position (default: 1)',\n",
    "                        default=1, type=int)\n",
    "    parser.add_argument('-a','--all', help='display the full text of the answer',\n",
    "                        action='store_true')\n",
    "    parser.add_argument('-l','--link', help='display only the answer link',\n",
    "                        action='store_true')\n",
    "    parser.add_argument('-c', '--color', help='enable colorized output',\n",
    "                        action='store_true')\n",
    "    parser.add_argument('-n','--num-answers', help='number of answers to return',\n",
    "                        default=1, type=int)\n",
    "    parser.add_argument('-C','--clear-cache', help='clear the cache',\n",
    "                        action='store_true')\n",
    "    parser.add_argument('-v','--version',\n",
    "                        help='displays the current version of howdoi',\n",
    "                        action='store_true')\n",
    "    return parser"
   ]
  },
  {
   "cell_type": "code",
   "execution_count": 2,
   "outputs": [
    {
     "ename": "DocoptExit",
     "evalue": "Usage:\n    hello <name>... [options]\n    hello -h | --help | --version",
     "output_type": "error",
     "traceback": [
      "An exception has occurred, use %tb to see the full traceback.\n",
      "\u001B[0;31mDocoptExit\u001B[0m\u001B[0;31m:\u001B[0m Usage:\n    hello <name>... [options]\n    hello -h | --help | --version\n"
     ]
    },
    {
     "name": "stderr",
     "output_type": "stream",
     "text": [
      "/home/af/Dokumenter/Programs/miniconda3/envs/HitchhikersGuide2Python-py38/lib/python3.8/site-packages/IPython/core/interactiveshell.py:3339: UserWarning: To exit: use 'exit', 'quit', or Ctrl-D.\n",
      "  warn(\"To exit: use 'exit', 'quit', or Ctrl-D.\", stacklevel=1)\n"
     ]
    }
   ],
   "source": [
    "#!/usr/bin env python3\n",
    "\"\"\"\n",
    "Says hello to you.\n",
    "\n",
    "  Usage:\n",
    "    hello <name>... [options]\n",
    "    hello -h | --help | --version\n",
    "\n",
    "    -c, --capitalize  whether to capitalize the name\n",
    "    -n REPS, --num_repetitions=REPS number of repetitions [default: 1]\n",
    "\"\"\"\n",
    "\n",
    "__version__ = \"1.0.0\"  # Needed for --version\n",
    "\n",
    "def hello(name, repetitions=1):\n",
    "    for rep in range(repetitions):\n",
    "        print('Hello {}'.format(name))\n",
    "\n",
    "if __name__ == \"__main__\":\n",
    "    from docopt import docopt\n",
    "    arguments = docopt(__doc__, version=__version__)\n",
    "    name = ' '.join(arguments['<name>'])\n",
    "    repetitions = arguments['--num_repetitions']\n",
    "    if arguments['--capitalize']:\n",
    "        name = name.upper()\n",
    "    hello(name, repetitions=repetitions)"
   ],
   "metadata": {
    "collapsed": false,
    "pycharm": {
     "name": "#%%\n"
    }
   }
  },
  {
   "cell_type": "code",
   "execution_count": 4,
   "outputs": [
    {
     "name": "stderr",
     "output_type": "stream",
     "text": [
      "usage: ipykernel_launcher.py [-h] name [capitalize] [repetitions]\n",
      "ipykernel_launcher.py: error: unrecognized arguments: -f\n"
     ]
    },
    {
     "ename": "SystemExit",
     "evalue": "2",
     "output_type": "error",
     "traceback": [
      "An exception has occurred, use %tb to see the full traceback.\n",
      "\u001B[0;31mSystemExit\u001B[0m\u001B[0;31m:\u001B[0m 2\n"
     ]
    }
   ],
   "source": [
    "# hello.py\n",
    "\n",
    "def hello(name, capitalize=False, repetitions=1):\n",
    "    \"\"\"\n",
    "    Says hello to you.\n",
    "    \"\"\"\n",
    "    if capitalize:\n",
    "        name = name.upper()\n",
    "    for rep in range(repetitions):\n",
    "        print('Hello {}'.format(name))\n",
    "\n",
    "\n",
    "if __name__ == \"__main__\":\n",
    "    import plac\n",
    "    plac.call(hello)"
   ],
   "metadata": {
    "collapsed": false,
    "pycharm": {
     "name": "#%%\n"
    }
   }
  },
  {
   "cell_type": "code",
   "execution_count": 5,
   "outputs": [
    {
     "ename": "SyntaxError",
     "evalue": "invalid syntax (<ipython-input-5-c0a06b33e201>, line 8)",
     "output_type": "error",
     "traceback": [
      "\u001B[0;36m  File \u001B[0;32m\"<ipython-input-5-c0a06b33e201>\"\u001B[0;36m, line \u001B[0;32m8\u001B[0m\n\u001B[0;31m    def hello(name, capitalize=False, repetitions=1):\u001B[0m\n\u001B[0m    ^\u001B[0m\n\u001B[0;31mSyntaxError\u001B[0m\u001B[0;31m:\u001B[0m invalid syntax\n"
     ]
    }
   ],
   "source": [
    "import plac\n",
    "\n",
    "@plac.annotations(\n",
    "    name = plac.Annotation(\"the name to greet\", type=str),\n",
    "    capitalize = plac.Annotation(\"use allcaps\", kind=\"flag\", type=bool),\n",
    "    repetitions = plac.Annotation(\"total repetitions\", kind=\"option\", type=int)\n",
    "\n",
    "def hello(name, capitalize=False, repetitions=1):\n",
    "    \"\"\"\n",
    "    Says hello to you.\n",
    "    \"\"\"\n",
    "    if capitalize:\n",
    "        name = name.upper()\n",
    "    for rep in range(repetitions):\n",
    "        print('Hello {}'.format(name))"
   ],
   "metadata": {
    "collapsed": false,
    "pycharm": {
     "name": "#%%\n"
    }
   }
  },
  {
   "cell_type": "code",
   "execution_count": 6,
   "outputs": [
    {
     "name": "stderr",
     "output_type": "stream",
     "text": [
      "Usage: ipykernel_launcher.py [OPTIONS] NAME\n",
      "Try 'ipykernel_launcher.py --help' for help.\n",
      "\n",
      "Error: no such option: -f\n",
      "ERROR:root:Internal Python error in the inspect module.\n",
      "Below is the traceback from this internal error.\n",
      "\n"
     ]
    },
    {
     "name": "stdout",
     "output_type": "stream",
     "text": [
      "Traceback (most recent call last):\n",
      "  File \"/home/af/Dokumenter/Programs/miniconda3/envs/HitchhikersGuide2Python-py38/lib/python3.8/site-packages/click/parser.py\", line 416, in _process_opts\n",
      "    self._match_long_opt(norm_long_opt, explicit_value, state)\n",
      "  File \"/home/af/Dokumenter/Programs/miniconda3/envs/HitchhikersGuide2Python-py38/lib/python3.8/site-packages/click/parser.py\", line 326, in _match_long_opt\n",
      "    raise NoSuchOption(opt, possibilities=possibilities, ctx=self.ctx)\n",
      "click.exceptions.NoSuchOption: no such option: -f\n",
      "\n",
      "During handling of the above exception, another exception occurred:\n",
      "\n",
      "Traceback (most recent call last):\n",
      "  File \"/home/af/Dokumenter/Programs/miniconda3/envs/HitchhikersGuide2Python-py38/lib/python3.8/site-packages/click/core.py\", line 781, in main\n",
      "    with self.make_context(prog_name, args, **extra) as ctx:\n",
      "  File \"/home/af/Dokumenter/Programs/miniconda3/envs/HitchhikersGuide2Python-py38/lib/python3.8/site-packages/click/core.py\", line 700, in make_context\n",
      "    self.parse_args(ctx, args)\n",
      "  File \"/home/af/Dokumenter/Programs/miniconda3/envs/HitchhikersGuide2Python-py38/lib/python3.8/site-packages/click/core.py\", line 1045, in parse_args\n",
      "    opts, args, param_order = parser.parse_args(args=args)\n",
      "  File \"/home/af/Dokumenter/Programs/miniconda3/envs/HitchhikersGuide2Python-py38/lib/python3.8/site-packages/click/parser.py\", line 269, in parse_args\n",
      "    self._process_args_for_options(state)\n",
      "  File \"/home/af/Dokumenter/Programs/miniconda3/envs/HitchhikersGuide2Python-py38/lib/python3.8/site-packages/click/parser.py\", line 296, in _process_args_for_options\n",
      "    self._process_opts(arg, state)\n",
      "  File \"/home/af/Dokumenter/Programs/miniconda3/envs/HitchhikersGuide2Python-py38/lib/python3.8/site-packages/click/parser.py\", line 425, in _process_opts\n",
      "    return self._match_short_opt(arg, state)\n",
      "  File \"/home/af/Dokumenter/Programs/miniconda3/envs/HitchhikersGuide2Python-py38/lib/python3.8/site-packages/click/parser.py\", line 369, in _match_short_opt\n",
      "    raise NoSuchOption(opt, ctx=self.ctx)\n",
      "click.exceptions.NoSuchOption: no such option: -f\n",
      "\n",
      "During handling of the above exception, another exception occurred:\n",
      "\n",
      "Traceback (most recent call last):\n",
      "  File \"/home/af/Dokumenter/Programs/miniconda3/envs/HitchhikersGuide2Python-py38/lib/python3.8/site-packages/IPython/core/interactiveshell.py\", line 3331, in run_code\n",
      "    exec(code_obj, self.user_global_ns, self.user_ns)\n",
      "  File \"<ipython-input-6-3107a6471e3d>\", line 19, in <module>\n",
      "    hello()\n",
      "  File \"/home/af/Dokumenter/Programs/miniconda3/envs/HitchhikersGuide2Python-py38/lib/python3.8/site-packages/click/core.py\", line 829, in __call__\n",
      "    return self.main(*args, **kwargs)\n",
      "  File \"/home/af/Dokumenter/Programs/miniconda3/envs/HitchhikersGuide2Python-py38/lib/python3.8/site-packages/click/core.py\", line 800, in main\n",
      "    sys.exit(e.exit_code)\n",
      "SystemExit: 2\n",
      "\n",
      "During handling of the above exception, another exception occurred:\n",
      "\n",
      "Traceback (most recent call last):\n",
      "  File \"/home/af/Dokumenter/Programs/miniconda3/envs/HitchhikersGuide2Python-py38/lib/python3.8/site-packages/IPython/core/ultratb.py\", line 1148, in get_records\n",
      "    return _fixed_getinnerframes(etb, number_of_lines_of_context, tb_offset)\n",
      "  File \"/home/af/Dokumenter/Programs/miniconda3/envs/HitchhikersGuide2Python-py38/lib/python3.8/site-packages/IPython/core/ultratb.py\", line 316, in wrapped\n",
      "    return f(*args, **kwargs)\n",
      "  File \"/home/af/Dokumenter/Programs/miniconda3/envs/HitchhikersGuide2Python-py38/lib/python3.8/site-packages/IPython/core/ultratb.py\", line 350, in _fixed_getinnerframes\n",
      "    records = fix_frame_records_filenames(inspect.getinnerframes(etb, context))\n",
      "  File \"/home/af/Dokumenter/Programs/miniconda3/envs/HitchhikersGuide2Python-py38/lib/python3.8/inspect.py\", line 1503, in getinnerframes\n",
      "    frameinfo = (tb.tb_frame,) + getframeinfo(tb, context)\n",
      "AttributeError: 'tuple' object has no attribute 'tb_frame'\n"
     ]
    },
    {
     "ename": "TypeError",
     "evalue": "can only concatenate str (not \"list\") to str",
     "output_type": "error",
     "traceback": [
      "\u001B[0;31m---------------------------------------------------------------------------\u001B[0m",
      "\u001B[0;31mNoSuchOption\u001B[0m                              Traceback (most recent call last)",
      "\u001B[0;32m~/Dokumenter/Programs/miniconda3/envs/HitchhikersGuide2Python-py38/lib/python3.8/site-packages/click/parser.py\u001B[0m in \u001B[0;36m_process_opts\u001B[0;34m(self, arg, state)\u001B[0m\n\u001B[1;32m    415\u001B[0m         \u001B[0;32mtry\u001B[0m\u001B[0;34m:\u001B[0m\u001B[0;34m\u001B[0m\u001B[0;34m\u001B[0m\u001B[0m\n\u001B[0;32m--> 416\u001B[0;31m             \u001B[0mself\u001B[0m\u001B[0;34m.\u001B[0m\u001B[0m_match_long_opt\u001B[0m\u001B[0;34m(\u001B[0m\u001B[0mnorm_long_opt\u001B[0m\u001B[0;34m,\u001B[0m \u001B[0mexplicit_value\u001B[0m\u001B[0;34m,\u001B[0m \u001B[0mstate\u001B[0m\u001B[0;34m)\u001B[0m\u001B[0;34m\u001B[0m\u001B[0;34m\u001B[0m\u001B[0m\n\u001B[0m\u001B[1;32m    417\u001B[0m         \u001B[0;32mexcept\u001B[0m \u001B[0mNoSuchOption\u001B[0m\u001B[0;34m:\u001B[0m\u001B[0;34m\u001B[0m\u001B[0;34m\u001B[0m\u001B[0m\n",
      "\u001B[0;32m~/Dokumenter/Programs/miniconda3/envs/HitchhikersGuide2Python-py38/lib/python3.8/site-packages/click/parser.py\u001B[0m in \u001B[0;36m_match_long_opt\u001B[0;34m(self, opt, explicit_value, state)\u001B[0m\n\u001B[1;32m    325\u001B[0m             \u001B[0mpossibilities\u001B[0m \u001B[0;34m=\u001B[0m \u001B[0;34m[\u001B[0m\u001B[0mword\u001B[0m \u001B[0;32mfor\u001B[0m \u001B[0mword\u001B[0m \u001B[0;32min\u001B[0m \u001B[0mself\u001B[0m\u001B[0;34m.\u001B[0m\u001B[0m_long_opt\u001B[0m \u001B[0;32mif\u001B[0m \u001B[0mword\u001B[0m\u001B[0;34m.\u001B[0m\u001B[0mstartswith\u001B[0m\u001B[0;34m(\u001B[0m\u001B[0mopt\u001B[0m\u001B[0;34m)\u001B[0m\u001B[0;34m]\u001B[0m\u001B[0;34m\u001B[0m\u001B[0;34m\u001B[0m\u001B[0m\n\u001B[0;32m--> 326\u001B[0;31m             \u001B[0;32mraise\u001B[0m \u001B[0mNoSuchOption\u001B[0m\u001B[0;34m(\u001B[0m\u001B[0mopt\u001B[0m\u001B[0;34m,\u001B[0m \u001B[0mpossibilities\u001B[0m\u001B[0;34m=\u001B[0m\u001B[0mpossibilities\u001B[0m\u001B[0;34m,\u001B[0m \u001B[0mctx\u001B[0m\u001B[0;34m=\u001B[0m\u001B[0mself\u001B[0m\u001B[0;34m.\u001B[0m\u001B[0mctx\u001B[0m\u001B[0;34m)\u001B[0m\u001B[0;34m\u001B[0m\u001B[0;34m\u001B[0m\u001B[0m\n\u001B[0m\u001B[1;32m    327\u001B[0m \u001B[0;34m\u001B[0m\u001B[0m\n",
      "\u001B[0;31mNoSuchOption\u001B[0m: no such option: -f",
      "\nDuring handling of the above exception, another exception occurred:\n",
      "\u001B[0;31mNoSuchOption\u001B[0m                              Traceback (most recent call last)",
      "\u001B[0;32m~/Dokumenter/Programs/miniconda3/envs/HitchhikersGuide2Python-py38/lib/python3.8/site-packages/click/core.py\u001B[0m in \u001B[0;36mmain\u001B[0;34m(self, args, prog_name, complete_var, standalone_mode, **extra)\u001B[0m\n\u001B[1;32m    780\u001B[0m             \u001B[0;32mtry\u001B[0m\u001B[0;34m:\u001B[0m\u001B[0;34m\u001B[0m\u001B[0;34m\u001B[0m\u001B[0m\n\u001B[0;32m--> 781\u001B[0;31m                 \u001B[0;32mwith\u001B[0m \u001B[0mself\u001B[0m\u001B[0;34m.\u001B[0m\u001B[0mmake_context\u001B[0m\u001B[0;34m(\u001B[0m\u001B[0mprog_name\u001B[0m\u001B[0;34m,\u001B[0m \u001B[0margs\u001B[0m\u001B[0;34m,\u001B[0m \u001B[0;34m**\u001B[0m\u001B[0mextra\u001B[0m\u001B[0;34m)\u001B[0m \u001B[0;32mas\u001B[0m \u001B[0mctx\u001B[0m\u001B[0;34m:\u001B[0m\u001B[0;34m\u001B[0m\u001B[0;34m\u001B[0m\u001B[0m\n\u001B[0m\u001B[1;32m    782\u001B[0m                     \u001B[0mrv\u001B[0m \u001B[0;34m=\u001B[0m \u001B[0mself\u001B[0m\u001B[0;34m.\u001B[0m\u001B[0minvoke\u001B[0m\u001B[0;34m(\u001B[0m\u001B[0mctx\u001B[0m\u001B[0;34m)\u001B[0m\u001B[0;34m\u001B[0m\u001B[0;34m\u001B[0m\u001B[0m\n",
      "\u001B[0;32m~/Dokumenter/Programs/miniconda3/envs/HitchhikersGuide2Python-py38/lib/python3.8/site-packages/click/core.py\u001B[0m in \u001B[0;36mmake_context\u001B[0;34m(self, info_name, args, parent, **extra)\u001B[0m\n\u001B[1;32m    699\u001B[0m         \u001B[0;32mwith\u001B[0m \u001B[0mctx\u001B[0m\u001B[0;34m.\u001B[0m\u001B[0mscope\u001B[0m\u001B[0;34m(\u001B[0m\u001B[0mcleanup\u001B[0m\u001B[0;34m=\u001B[0m\u001B[0;32mFalse\u001B[0m\u001B[0;34m)\u001B[0m\u001B[0;34m:\u001B[0m\u001B[0;34m\u001B[0m\u001B[0;34m\u001B[0m\u001B[0m\n\u001B[0;32m--> 700\u001B[0;31m             \u001B[0mself\u001B[0m\u001B[0;34m.\u001B[0m\u001B[0mparse_args\u001B[0m\u001B[0;34m(\u001B[0m\u001B[0mctx\u001B[0m\u001B[0;34m,\u001B[0m \u001B[0margs\u001B[0m\u001B[0;34m)\u001B[0m\u001B[0;34m\u001B[0m\u001B[0;34m\u001B[0m\u001B[0m\n\u001B[0m\u001B[1;32m    701\u001B[0m         \u001B[0;32mreturn\u001B[0m \u001B[0mctx\u001B[0m\u001B[0;34m\u001B[0m\u001B[0;34m\u001B[0m\u001B[0m\n",
      "\u001B[0;32m~/Dokumenter/Programs/miniconda3/envs/HitchhikersGuide2Python-py38/lib/python3.8/site-packages/click/core.py\u001B[0m in \u001B[0;36mparse_args\u001B[0;34m(self, ctx, args)\u001B[0m\n\u001B[1;32m   1044\u001B[0m         \u001B[0mparser\u001B[0m \u001B[0;34m=\u001B[0m \u001B[0mself\u001B[0m\u001B[0;34m.\u001B[0m\u001B[0mmake_parser\u001B[0m\u001B[0;34m(\u001B[0m\u001B[0mctx\u001B[0m\u001B[0;34m)\u001B[0m\u001B[0;34m\u001B[0m\u001B[0;34m\u001B[0m\u001B[0m\n\u001B[0;32m-> 1045\u001B[0;31m         \u001B[0mopts\u001B[0m\u001B[0;34m,\u001B[0m \u001B[0margs\u001B[0m\u001B[0;34m,\u001B[0m \u001B[0mparam_order\u001B[0m \u001B[0;34m=\u001B[0m \u001B[0mparser\u001B[0m\u001B[0;34m.\u001B[0m\u001B[0mparse_args\u001B[0m\u001B[0;34m(\u001B[0m\u001B[0margs\u001B[0m\u001B[0;34m=\u001B[0m\u001B[0margs\u001B[0m\u001B[0;34m)\u001B[0m\u001B[0;34m\u001B[0m\u001B[0;34m\u001B[0m\u001B[0m\n\u001B[0m\u001B[1;32m   1046\u001B[0m \u001B[0;34m\u001B[0m\u001B[0m\n",
      "\u001B[0;32m~/Dokumenter/Programs/miniconda3/envs/HitchhikersGuide2Python-py38/lib/python3.8/site-packages/click/parser.py\u001B[0m in \u001B[0;36mparse_args\u001B[0;34m(self, args)\u001B[0m\n\u001B[1;32m    268\u001B[0m         \u001B[0;32mtry\u001B[0m\u001B[0;34m:\u001B[0m\u001B[0;34m\u001B[0m\u001B[0;34m\u001B[0m\u001B[0m\n\u001B[0;32m--> 269\u001B[0;31m             \u001B[0mself\u001B[0m\u001B[0;34m.\u001B[0m\u001B[0m_process_args_for_options\u001B[0m\u001B[0;34m(\u001B[0m\u001B[0mstate\u001B[0m\u001B[0;34m)\u001B[0m\u001B[0;34m\u001B[0m\u001B[0;34m\u001B[0m\u001B[0m\n\u001B[0m\u001B[1;32m    270\u001B[0m             \u001B[0mself\u001B[0m\u001B[0;34m.\u001B[0m\u001B[0m_process_args_for_args\u001B[0m\u001B[0;34m(\u001B[0m\u001B[0mstate\u001B[0m\u001B[0;34m)\u001B[0m\u001B[0;34m\u001B[0m\u001B[0;34m\u001B[0m\u001B[0m\n",
      "\u001B[0;32m~/Dokumenter/Programs/miniconda3/envs/HitchhikersGuide2Python-py38/lib/python3.8/site-packages/click/parser.py\u001B[0m in \u001B[0;36m_process_args_for_options\u001B[0;34m(self, state)\u001B[0m\n\u001B[1;32m    295\u001B[0m             \u001B[0;32melif\u001B[0m \u001B[0marg\u001B[0m\u001B[0;34m[\u001B[0m\u001B[0;34m:\u001B[0m\u001B[0;36m1\u001B[0m\u001B[0;34m]\u001B[0m \u001B[0;32min\u001B[0m \u001B[0mself\u001B[0m\u001B[0;34m.\u001B[0m\u001B[0m_opt_prefixes\u001B[0m \u001B[0;32mand\u001B[0m \u001B[0marglen\u001B[0m \u001B[0;34m>\u001B[0m \u001B[0;36m1\u001B[0m\u001B[0;34m:\u001B[0m\u001B[0;34m\u001B[0m\u001B[0;34m\u001B[0m\u001B[0m\n\u001B[0;32m--> 296\u001B[0;31m                 \u001B[0mself\u001B[0m\u001B[0;34m.\u001B[0m\u001B[0m_process_opts\u001B[0m\u001B[0;34m(\u001B[0m\u001B[0marg\u001B[0m\u001B[0;34m,\u001B[0m \u001B[0mstate\u001B[0m\u001B[0;34m)\u001B[0m\u001B[0;34m\u001B[0m\u001B[0;34m\u001B[0m\u001B[0m\n\u001B[0m\u001B[1;32m    297\u001B[0m             \u001B[0;32melif\u001B[0m \u001B[0mself\u001B[0m\u001B[0;34m.\u001B[0m\u001B[0mallow_interspersed_args\u001B[0m\u001B[0;34m:\u001B[0m\u001B[0;34m\u001B[0m\u001B[0;34m\u001B[0m\u001B[0m\n",
      "\u001B[0;32m~/Dokumenter/Programs/miniconda3/envs/HitchhikersGuide2Python-py38/lib/python3.8/site-packages/click/parser.py\u001B[0m in \u001B[0;36m_process_opts\u001B[0;34m(self, arg, state)\u001B[0m\n\u001B[1;32m    424\u001B[0m             \u001B[0;32mif\u001B[0m \u001B[0marg\u001B[0m\u001B[0;34m[\u001B[0m\u001B[0;34m:\u001B[0m\u001B[0;36m2\u001B[0m\u001B[0;34m]\u001B[0m \u001B[0;32mnot\u001B[0m \u001B[0;32min\u001B[0m \u001B[0mself\u001B[0m\u001B[0;34m.\u001B[0m\u001B[0m_opt_prefixes\u001B[0m\u001B[0;34m:\u001B[0m\u001B[0;34m\u001B[0m\u001B[0;34m\u001B[0m\u001B[0m\n\u001B[0;32m--> 425\u001B[0;31m                 \u001B[0;32mreturn\u001B[0m \u001B[0mself\u001B[0m\u001B[0;34m.\u001B[0m\u001B[0m_match_short_opt\u001B[0m\u001B[0;34m(\u001B[0m\u001B[0marg\u001B[0m\u001B[0;34m,\u001B[0m \u001B[0mstate\u001B[0m\u001B[0;34m)\u001B[0m\u001B[0;34m\u001B[0m\u001B[0;34m\u001B[0m\u001B[0m\n\u001B[0m\u001B[1;32m    426\u001B[0m             \u001B[0;32mif\u001B[0m \u001B[0;32mnot\u001B[0m \u001B[0mself\u001B[0m\u001B[0;34m.\u001B[0m\u001B[0mignore_unknown_options\u001B[0m\u001B[0;34m:\u001B[0m\u001B[0;34m\u001B[0m\u001B[0;34m\u001B[0m\u001B[0m\n",
      "\u001B[0;32m~/Dokumenter/Programs/miniconda3/envs/HitchhikersGuide2Python-py38/lib/python3.8/site-packages/click/parser.py\u001B[0m in \u001B[0;36m_match_short_opt\u001B[0;34m(self, arg, state)\u001B[0m\n\u001B[1;32m    368\u001B[0m                     \u001B[0;32mcontinue\u001B[0m\u001B[0;34m\u001B[0m\u001B[0;34m\u001B[0m\u001B[0m\n\u001B[0;32m--> 369\u001B[0;31m                 \u001B[0;32mraise\u001B[0m \u001B[0mNoSuchOption\u001B[0m\u001B[0;34m(\u001B[0m\u001B[0mopt\u001B[0m\u001B[0;34m,\u001B[0m \u001B[0mctx\u001B[0m\u001B[0;34m=\u001B[0m\u001B[0mself\u001B[0m\u001B[0;34m.\u001B[0m\u001B[0mctx\u001B[0m\u001B[0;34m)\u001B[0m\u001B[0;34m\u001B[0m\u001B[0;34m\u001B[0m\u001B[0m\n\u001B[0m\u001B[1;32m    370\u001B[0m             \u001B[0;32mif\u001B[0m \u001B[0moption\u001B[0m\u001B[0;34m.\u001B[0m\u001B[0mtakes_value\u001B[0m\u001B[0;34m:\u001B[0m\u001B[0;34m\u001B[0m\u001B[0;34m\u001B[0m\u001B[0m\n",
      "\u001B[0;31mNoSuchOption\u001B[0m: no such option: -f",
      "\nDuring handling of the above exception, another exception occurred:\n",
      "\u001B[0;31mSystemExit\u001B[0m                                Traceback (most recent call last)",
      "\u001B[0;32m~/Dokumenter/Programs/miniconda3/envs/HitchhikersGuide2Python-py38/lib/python3.8/site-packages/IPython/core/interactiveshell.py\u001B[0m in \u001B[0;36mrun_code\u001B[0;34m(self, code_obj, result, async_)\u001B[0m\n\u001B[1;32m   3330\u001B[0m                 \u001B[0;32melse\u001B[0m\u001B[0;34m:\u001B[0m\u001B[0;34m\u001B[0m\u001B[0;34m\u001B[0m\u001B[0m\n\u001B[0;32m-> 3331\u001B[0;31m                     \u001B[0mexec\u001B[0m\u001B[0;34m(\u001B[0m\u001B[0mcode_obj\u001B[0m\u001B[0;34m,\u001B[0m \u001B[0mself\u001B[0m\u001B[0;34m.\u001B[0m\u001B[0muser_global_ns\u001B[0m\u001B[0;34m,\u001B[0m \u001B[0mself\u001B[0m\u001B[0;34m.\u001B[0m\u001B[0muser_ns\u001B[0m\u001B[0;34m)\u001B[0m\u001B[0;34m\u001B[0m\u001B[0;34m\u001B[0m\u001B[0m\n\u001B[0m\u001B[1;32m   3332\u001B[0m             \u001B[0;32mfinally\u001B[0m\u001B[0;34m:\u001B[0m\u001B[0;34m\u001B[0m\u001B[0;34m\u001B[0m\u001B[0m\n",
      "\u001B[0;32m<ipython-input-6-3107a6471e3d>\u001B[0m in \u001B[0;36m<module>\u001B[0;34m\u001B[0m\n\u001B[1;32m     18\u001B[0m \u001B[0;32mif\u001B[0m \u001B[0m__name__\u001B[0m \u001B[0;34m==\u001B[0m \u001B[0;34m'__main__'\u001B[0m\u001B[0;34m:\u001B[0m\u001B[0;34m\u001B[0m\u001B[0;34m\u001B[0m\u001B[0m\n\u001B[0;32m---> 19\u001B[0;31m     \u001B[0mhello\u001B[0m\u001B[0;34m(\u001B[0m\u001B[0;34m)\u001B[0m\u001B[0;34m\u001B[0m\u001B[0;34m\u001B[0m\u001B[0m\n\u001B[0m\u001B[1;32m     20\u001B[0m \u001B[0;34m\u001B[0m\u001B[0m\n",
      "\u001B[0;32m~/Dokumenter/Programs/miniconda3/envs/HitchhikersGuide2Python-py38/lib/python3.8/site-packages/click/core.py\u001B[0m in \u001B[0;36m__call__\u001B[0;34m(self, *args, **kwargs)\u001B[0m\n\u001B[1;32m    828\u001B[0m         \u001B[0;34m\"\"\"Alias for :meth:`main`.\"\"\"\u001B[0m\u001B[0;34m\u001B[0m\u001B[0;34m\u001B[0m\u001B[0m\n\u001B[0;32m--> 829\u001B[0;31m         \u001B[0;32mreturn\u001B[0m \u001B[0mself\u001B[0m\u001B[0;34m.\u001B[0m\u001B[0mmain\u001B[0m\u001B[0;34m(\u001B[0m\u001B[0;34m*\u001B[0m\u001B[0margs\u001B[0m\u001B[0;34m,\u001B[0m \u001B[0;34m**\u001B[0m\u001B[0mkwargs\u001B[0m\u001B[0;34m)\u001B[0m\u001B[0;34m\u001B[0m\u001B[0;34m\u001B[0m\u001B[0m\n\u001B[0m\u001B[1;32m    830\u001B[0m \u001B[0;34m\u001B[0m\u001B[0m\n",
      "\u001B[0;32m~/Dokumenter/Programs/miniconda3/envs/HitchhikersGuide2Python-py38/lib/python3.8/site-packages/click/core.py\u001B[0m in \u001B[0;36mmain\u001B[0;34m(self, args, prog_name, complete_var, standalone_mode, **extra)\u001B[0m\n\u001B[1;32m    799\u001B[0m                 \u001B[0me\u001B[0m\u001B[0;34m.\u001B[0m\u001B[0mshow\u001B[0m\u001B[0;34m(\u001B[0m\u001B[0;34m)\u001B[0m\u001B[0;34m\u001B[0m\u001B[0;34m\u001B[0m\u001B[0m\n\u001B[0;32m--> 800\u001B[0;31m                 \u001B[0msys\u001B[0m\u001B[0;34m.\u001B[0m\u001B[0mexit\u001B[0m\u001B[0;34m(\u001B[0m\u001B[0me\u001B[0m\u001B[0;34m.\u001B[0m\u001B[0mexit_code\u001B[0m\u001B[0;34m)\u001B[0m\u001B[0;34m\u001B[0m\u001B[0;34m\u001B[0m\u001B[0m\n\u001B[0m\u001B[1;32m    801\u001B[0m             \u001B[0;32mexcept\u001B[0m \u001B[0mIOError\u001B[0m \u001B[0;32mas\u001B[0m \u001B[0me\u001B[0m\u001B[0;34m:\u001B[0m\u001B[0;34m\u001B[0m\u001B[0;34m\u001B[0m\u001B[0m\n",
      "\u001B[0;31mSystemExit\u001B[0m: 2",
      "\nDuring handling of the above exception, another exception occurred:\n",
      "\u001B[0;31mTypeError\u001B[0m                                 Traceback (most recent call last)",
      "\u001B[0;32m~/Dokumenter/Programs/miniconda3/envs/HitchhikersGuide2Python-py38/lib/python3.8/site-packages/IPython/core/interactiveshell.py\u001B[0m in \u001B[0;36mrun_code\u001B[0;34m(self, code_obj, result, async_)\u001B[0m\n\u001B[1;32m   3336\u001B[0m             \u001B[0;32mif\u001B[0m \u001B[0mresult\u001B[0m \u001B[0;32mis\u001B[0m \u001B[0;32mnot\u001B[0m \u001B[0;32mNone\u001B[0m\u001B[0;34m:\u001B[0m\u001B[0;34m\u001B[0m\u001B[0;34m\u001B[0m\u001B[0m\n\u001B[1;32m   3337\u001B[0m                 \u001B[0mresult\u001B[0m\u001B[0;34m.\u001B[0m\u001B[0merror_in_exec\u001B[0m \u001B[0;34m=\u001B[0m \u001B[0me\u001B[0m\u001B[0;34m\u001B[0m\u001B[0;34m\u001B[0m\u001B[0m\n\u001B[0;32m-> 3338\u001B[0;31m             \u001B[0mself\u001B[0m\u001B[0;34m.\u001B[0m\u001B[0mshowtraceback\u001B[0m\u001B[0;34m(\u001B[0m\u001B[0mexception_only\u001B[0m\u001B[0;34m=\u001B[0m\u001B[0;32mTrue\u001B[0m\u001B[0;34m)\u001B[0m\u001B[0;34m\u001B[0m\u001B[0;34m\u001B[0m\u001B[0m\n\u001B[0m\u001B[1;32m   3339\u001B[0m             \u001B[0mwarn\u001B[0m\u001B[0;34m(\u001B[0m\u001B[0;34m\"To exit: use 'exit', 'quit', or Ctrl-D.\"\u001B[0m\u001B[0;34m,\u001B[0m \u001B[0mstacklevel\u001B[0m\u001B[0;34m=\u001B[0m\u001B[0;36m1\u001B[0m\u001B[0;34m)\u001B[0m\u001B[0;34m\u001B[0m\u001B[0;34m\u001B[0m\u001B[0m\n\u001B[1;32m   3340\u001B[0m         \u001B[0;32mexcept\u001B[0m \u001B[0mself\u001B[0m\u001B[0;34m.\u001B[0m\u001B[0mcustom_exceptions\u001B[0m\u001B[0;34m:\u001B[0m\u001B[0;34m\u001B[0m\u001B[0;34m\u001B[0m\u001B[0m\n",
      "\u001B[0;32m~/Dokumenter/Programs/miniconda3/envs/HitchhikersGuide2Python-py38/lib/python3.8/site-packages/IPython/core/interactiveshell.py\u001B[0m in \u001B[0;36mshowtraceback\u001B[0;34m(self, exc_tuple, filename, tb_offset, exception_only, running_compiled_code)\u001B[0m\n\u001B[1;32m   2035\u001B[0m                     stb = ['An exception has occurred, use %tb to see '\n\u001B[1;32m   2036\u001B[0m                            'the full traceback.\\n']\n\u001B[0;32m-> 2037\u001B[0;31m                     stb.extend(self.InteractiveTB.get_exception_only(etype,\n\u001B[0m\u001B[1;32m   2038\u001B[0m                                                                      value))\n\u001B[1;32m   2039\u001B[0m                 \u001B[0;32melse\u001B[0m\u001B[0;34m:\u001B[0m\u001B[0;34m\u001B[0m\u001B[0;34m\u001B[0m\u001B[0m\n",
      "\u001B[0;32m~/Dokumenter/Programs/miniconda3/envs/HitchhikersGuide2Python-py38/lib/python3.8/site-packages/IPython/core/ultratb.py\u001B[0m in \u001B[0;36mget_exception_only\u001B[0;34m(self, etype, value)\u001B[0m\n\u001B[1;32m    821\u001B[0m         \u001B[0mvalue\u001B[0m \u001B[0;34m:\u001B[0m \u001B[0mexception\u001B[0m \u001B[0mvalue\u001B[0m\u001B[0;34m\u001B[0m\u001B[0;34m\u001B[0m\u001B[0m\n\u001B[1;32m    822\u001B[0m         \"\"\"\n\u001B[0;32m--> 823\u001B[0;31m         \u001B[0;32mreturn\u001B[0m \u001B[0mListTB\u001B[0m\u001B[0;34m.\u001B[0m\u001B[0mstructured_traceback\u001B[0m\u001B[0;34m(\u001B[0m\u001B[0mself\u001B[0m\u001B[0;34m,\u001B[0m \u001B[0metype\u001B[0m\u001B[0;34m,\u001B[0m \u001B[0mvalue\u001B[0m\u001B[0;34m)\u001B[0m\u001B[0;34m\u001B[0m\u001B[0;34m\u001B[0m\u001B[0m\n\u001B[0m\u001B[1;32m    824\u001B[0m \u001B[0;34m\u001B[0m\u001B[0m\n\u001B[1;32m    825\u001B[0m     \u001B[0;32mdef\u001B[0m \u001B[0mshow_exception_only\u001B[0m\u001B[0;34m(\u001B[0m\u001B[0mself\u001B[0m\u001B[0;34m,\u001B[0m \u001B[0metype\u001B[0m\u001B[0;34m,\u001B[0m \u001B[0mevalue\u001B[0m\u001B[0;34m)\u001B[0m\u001B[0;34m:\u001B[0m\u001B[0;34m\u001B[0m\u001B[0;34m\u001B[0m\u001B[0m\n",
      "\u001B[0;32m~/Dokumenter/Programs/miniconda3/envs/HitchhikersGuide2Python-py38/lib/python3.8/site-packages/IPython/core/ultratb.py\u001B[0m in \u001B[0;36mstructured_traceback\u001B[0;34m(self, etype, evalue, etb, tb_offset, context)\u001B[0m\n\u001B[1;32m    696\u001B[0m             \u001B[0mchained_exceptions_tb_offset\u001B[0m \u001B[0;34m=\u001B[0m \u001B[0;36m0\u001B[0m\u001B[0;34m\u001B[0m\u001B[0;34m\u001B[0m\u001B[0m\n\u001B[1;32m    697\u001B[0m             out_list = (\n\u001B[0;32m--> 698\u001B[0;31m                 self.structured_traceback(\n\u001B[0m\u001B[1;32m    699\u001B[0m                     \u001B[0metype\u001B[0m\u001B[0;34m,\u001B[0m \u001B[0mevalue\u001B[0m\u001B[0;34m,\u001B[0m \u001B[0;34m(\u001B[0m\u001B[0metb\u001B[0m\u001B[0;34m,\u001B[0m \u001B[0mchained_exc_ids\u001B[0m\u001B[0;34m)\u001B[0m\u001B[0;34m,\u001B[0m\u001B[0;34m\u001B[0m\u001B[0;34m\u001B[0m\u001B[0m\n\u001B[1;32m    700\u001B[0m                     chained_exceptions_tb_offset, context)\n",
      "\u001B[0;32m~/Dokumenter/Programs/miniconda3/envs/HitchhikersGuide2Python-py38/lib/python3.8/site-packages/IPython/core/ultratb.py\u001B[0m in \u001B[0;36mstructured_traceback\u001B[0;34m(self, etype, value, tb, tb_offset, number_of_lines_of_context)\u001B[0m\n\u001B[1;32m   1412\u001B[0m         \u001B[0;32melse\u001B[0m\u001B[0;34m:\u001B[0m\u001B[0;34m\u001B[0m\u001B[0;34m\u001B[0m\u001B[0m\n\u001B[1;32m   1413\u001B[0m             \u001B[0mself\u001B[0m\u001B[0;34m.\u001B[0m\u001B[0mtb\u001B[0m \u001B[0;34m=\u001B[0m \u001B[0mtb\u001B[0m\u001B[0;34m\u001B[0m\u001B[0;34m\u001B[0m\u001B[0m\n\u001B[0;32m-> 1414\u001B[0;31m         return FormattedTB.structured_traceback(\n\u001B[0m\u001B[1;32m   1415\u001B[0m             self, etype, value, tb, tb_offset, number_of_lines_of_context)\n\u001B[1;32m   1416\u001B[0m \u001B[0;34m\u001B[0m\u001B[0m\n",
      "\u001B[0;32m~/Dokumenter/Programs/miniconda3/envs/HitchhikersGuide2Python-py38/lib/python3.8/site-packages/IPython/core/ultratb.py\u001B[0m in \u001B[0;36mstructured_traceback\u001B[0;34m(self, etype, value, tb, tb_offset, number_of_lines_of_context)\u001B[0m\n\u001B[1;32m   1312\u001B[0m         \u001B[0;32mif\u001B[0m \u001B[0mmode\u001B[0m \u001B[0;32min\u001B[0m \u001B[0mself\u001B[0m\u001B[0;34m.\u001B[0m\u001B[0mverbose_modes\u001B[0m\u001B[0;34m:\u001B[0m\u001B[0;34m\u001B[0m\u001B[0;34m\u001B[0m\u001B[0m\n\u001B[1;32m   1313\u001B[0m             \u001B[0;31m# Verbose modes need a full traceback\u001B[0m\u001B[0;34m\u001B[0m\u001B[0;34m\u001B[0m\u001B[0;34m\u001B[0m\u001B[0m\n\u001B[0;32m-> 1314\u001B[0;31m             return VerboseTB.structured_traceback(\n\u001B[0m\u001B[1;32m   1315\u001B[0m                 \u001B[0mself\u001B[0m\u001B[0;34m,\u001B[0m \u001B[0metype\u001B[0m\u001B[0;34m,\u001B[0m \u001B[0mvalue\u001B[0m\u001B[0;34m,\u001B[0m \u001B[0mtb\u001B[0m\u001B[0;34m,\u001B[0m \u001B[0mtb_offset\u001B[0m\u001B[0;34m,\u001B[0m \u001B[0mnumber_of_lines_of_context\u001B[0m\u001B[0;34m\u001B[0m\u001B[0;34m\u001B[0m\u001B[0m\n\u001B[1;32m   1316\u001B[0m             )\n",
      "\u001B[0;32m~/Dokumenter/Programs/miniconda3/envs/HitchhikersGuide2Python-py38/lib/python3.8/site-packages/IPython/core/ultratb.py\u001B[0m in \u001B[0;36mstructured_traceback\u001B[0;34m(self, etype, evalue, etb, tb_offset, number_of_lines_of_context)\u001B[0m\n\u001B[1;32m   1181\u001B[0m         \u001B[0mexception\u001B[0m \u001B[0;34m=\u001B[0m \u001B[0mself\u001B[0m\u001B[0;34m.\u001B[0m\u001B[0mget_parts_of_chained_exception\u001B[0m\u001B[0;34m(\u001B[0m\u001B[0mevalue\u001B[0m\u001B[0;34m)\u001B[0m\u001B[0;34m\u001B[0m\u001B[0;34m\u001B[0m\u001B[0m\n\u001B[1;32m   1182\u001B[0m         \u001B[0;32mif\u001B[0m \u001B[0mexception\u001B[0m\u001B[0;34m:\u001B[0m\u001B[0;34m\u001B[0m\u001B[0;34m\u001B[0m\u001B[0m\n\u001B[0;32m-> 1183\u001B[0;31m             \u001B[0mformatted_exceptions\u001B[0m \u001B[0;34m+=\u001B[0m \u001B[0mself\u001B[0m\u001B[0;34m.\u001B[0m\u001B[0mprepare_chained_exception_message\u001B[0m\u001B[0;34m(\u001B[0m\u001B[0mevalue\u001B[0m\u001B[0;34m.\u001B[0m\u001B[0m__cause__\u001B[0m\u001B[0;34m)\u001B[0m\u001B[0;34m\u001B[0m\u001B[0;34m\u001B[0m\u001B[0m\n\u001B[0m\u001B[1;32m   1184\u001B[0m             \u001B[0metype\u001B[0m\u001B[0;34m,\u001B[0m \u001B[0mevalue\u001B[0m\u001B[0;34m,\u001B[0m \u001B[0metb\u001B[0m \u001B[0;34m=\u001B[0m \u001B[0mexception\u001B[0m\u001B[0;34m\u001B[0m\u001B[0;34m\u001B[0m\u001B[0m\n\u001B[1;32m   1185\u001B[0m         \u001B[0;32melse\u001B[0m\u001B[0;34m:\u001B[0m\u001B[0;34m\u001B[0m\u001B[0;34m\u001B[0m\u001B[0m\n",
      "\u001B[0;31mTypeError\u001B[0m: can only concatenate str (not \"list\") to str"
     ]
    }
   ],
   "source": [
    "import click\n",
    "\n",
    "@click.command()\n",
    "@click.argument('name', type=str)\n",
    "@click.option('--capitalize', is_flag=True)\n",
    "@click.option('--repetitions', default=1,\n",
    "              help=\"Times to repeat the greeting.\")\n",
    "\n",
    "def hello(name, capitalize, repetitions):\n",
    "    \"\"\"\n",
    "    Say hello, with capitalization and a name.\n",
    "    \"\"\"\n",
    "    if capitalize:\n",
    "        name = name.upper()\n",
    "    for rep in range(repetitions):\n",
    "        print('Hello {}'.format(name))\n",
    "\n",
    "if __name__ == '__main__':\n",
    "    hello()"
   ],
   "metadata": {
    "collapsed": false,
    "pycharm": {
     "name": "#%%\n"
    }
   }
  },
  {
   "cell_type": "code",
   "execution_count": 7,
   "outputs": [
    {
     "name": "stderr",
     "output_type": "stream",
     "text": [
      "Usage: ipykernel_launcher.py [OPTIONS] COMMAND [ARGS]...\n",
      "Try 'ipykernel_launcher.py --help' for help.\n",
      "\n",
      "Error: no such option: -f\n",
      "ERROR:root:Internal Python error in the inspect module.\n",
      "Below is the traceback from this internal error.\n",
      "\n"
     ]
    },
    {
     "name": "stdout",
     "output_type": "stream",
     "text": [
      "Traceback (most recent call last):\n",
      "  File \"/home/af/Dokumenter/Programs/miniconda3/envs/HitchhikersGuide2Python-py38/lib/python3.8/site-packages/click/parser.py\", line 416, in _process_opts\n",
      "    self._match_long_opt(norm_long_opt, explicit_value, state)\n",
      "  File \"/home/af/Dokumenter/Programs/miniconda3/envs/HitchhikersGuide2Python-py38/lib/python3.8/site-packages/click/parser.py\", line 326, in _match_long_opt\n",
      "    raise NoSuchOption(opt, possibilities=possibilities, ctx=self.ctx)\n",
      "click.exceptions.NoSuchOption: no such option: -f\n",
      "\n",
      "During handling of the above exception, another exception occurred:\n",
      "\n",
      "Traceback (most recent call last):\n",
      "  File \"/home/af/Dokumenter/Programs/miniconda3/envs/HitchhikersGuide2Python-py38/lib/python3.8/site-packages/click/core.py\", line 781, in main\n",
      "    with self.make_context(prog_name, args, **extra) as ctx:\n",
      "  File \"/home/af/Dokumenter/Programs/miniconda3/envs/HitchhikersGuide2Python-py38/lib/python3.8/site-packages/click/core.py\", line 700, in make_context\n",
      "    self.parse_args(ctx, args)\n",
      "  File \"/home/af/Dokumenter/Programs/miniconda3/envs/HitchhikersGuide2Python-py38/lib/python3.8/site-packages/click/core.py\", line 1212, in parse_args\n",
      "    rest = Command.parse_args(self, ctx, args)\n",
      "  File \"/home/af/Dokumenter/Programs/miniconda3/envs/HitchhikersGuide2Python-py38/lib/python3.8/site-packages/click/core.py\", line 1045, in parse_args\n",
      "    opts, args, param_order = parser.parse_args(args=args)\n",
      "  File \"/home/af/Dokumenter/Programs/miniconda3/envs/HitchhikersGuide2Python-py38/lib/python3.8/site-packages/click/parser.py\", line 269, in parse_args\n",
      "    self._process_args_for_options(state)\n",
      "  File \"/home/af/Dokumenter/Programs/miniconda3/envs/HitchhikersGuide2Python-py38/lib/python3.8/site-packages/click/parser.py\", line 296, in _process_args_for_options\n",
      "    self._process_opts(arg, state)\n",
      "  File \"/home/af/Dokumenter/Programs/miniconda3/envs/HitchhikersGuide2Python-py38/lib/python3.8/site-packages/click/parser.py\", line 425, in _process_opts\n",
      "    return self._match_short_opt(arg, state)\n",
      "  File \"/home/af/Dokumenter/Programs/miniconda3/envs/HitchhikersGuide2Python-py38/lib/python3.8/site-packages/click/parser.py\", line 369, in _match_short_opt\n",
      "    raise NoSuchOption(opt, ctx=self.ctx)\n",
      "click.exceptions.NoSuchOption: no such option: -f\n",
      "\n",
      "During handling of the above exception, another exception occurred:\n",
      "\n",
      "Traceback (most recent call last):\n",
      "  File \"/home/af/Dokumenter/Programs/miniconda3/envs/HitchhikersGuide2Python-py38/lib/python3.8/site-packages/IPython/core/interactiveshell.py\", line 3331, in run_code\n",
      "    exec(code_obj, self.user_global_ns, self.user_ns)\n",
      "  File \"<ipython-input-7-90b69494d478>\", line 14, in <module>\n",
      "    cli()\n",
      "  File \"/home/af/Dokumenter/Programs/miniconda3/envs/HitchhikersGuide2Python-py38/lib/python3.8/site-packages/click/core.py\", line 829, in __call__\n",
      "    return self.main(*args, **kwargs)\n",
      "  File \"/home/af/Dokumenter/Programs/miniconda3/envs/HitchhikersGuide2Python-py38/lib/python3.8/site-packages/click/core.py\", line 800, in main\n",
      "    sys.exit(e.exit_code)\n",
      "SystemExit: 2\n",
      "\n",
      "During handling of the above exception, another exception occurred:\n",
      "\n",
      "Traceback (most recent call last):\n",
      "  File \"/home/af/Dokumenter/Programs/miniconda3/envs/HitchhikersGuide2Python-py38/lib/python3.8/site-packages/IPython/core/ultratb.py\", line 1148, in get_records\n",
      "    return _fixed_getinnerframes(etb, number_of_lines_of_context, tb_offset)\n",
      "  File \"/home/af/Dokumenter/Programs/miniconda3/envs/HitchhikersGuide2Python-py38/lib/python3.8/site-packages/IPython/core/ultratb.py\", line 316, in wrapped\n",
      "    return f(*args, **kwargs)\n",
      "  File \"/home/af/Dokumenter/Programs/miniconda3/envs/HitchhikersGuide2Python-py38/lib/python3.8/site-packages/IPython/core/ultratb.py\", line 350, in _fixed_getinnerframes\n",
      "    records = fix_frame_records_filenames(inspect.getinnerframes(etb, context))\n",
      "  File \"/home/af/Dokumenter/Programs/miniconda3/envs/HitchhikersGuide2Python-py38/lib/python3.8/inspect.py\", line 1503, in getinnerframes\n",
      "    frameinfo = (tb.tb_frame,) + getframeinfo(tb, context)\n",
      "AttributeError: 'tuple' object has no attribute 'tb_frame'\n"
     ]
    },
    {
     "ename": "TypeError",
     "evalue": "can only concatenate str (not \"list\") to str",
     "output_type": "error",
     "traceback": [
      "\u001B[0;31m---------------------------------------------------------------------------\u001B[0m",
      "\u001B[0;31mNoSuchOption\u001B[0m                              Traceback (most recent call last)",
      "\u001B[0;32m~/Dokumenter/Programs/miniconda3/envs/HitchhikersGuide2Python-py38/lib/python3.8/site-packages/click/parser.py\u001B[0m in \u001B[0;36m_process_opts\u001B[0;34m(self, arg, state)\u001B[0m\n\u001B[1;32m    415\u001B[0m         \u001B[0;32mtry\u001B[0m\u001B[0;34m:\u001B[0m\u001B[0;34m\u001B[0m\u001B[0;34m\u001B[0m\u001B[0m\n\u001B[0;32m--> 416\u001B[0;31m             \u001B[0mself\u001B[0m\u001B[0;34m.\u001B[0m\u001B[0m_match_long_opt\u001B[0m\u001B[0;34m(\u001B[0m\u001B[0mnorm_long_opt\u001B[0m\u001B[0;34m,\u001B[0m \u001B[0mexplicit_value\u001B[0m\u001B[0;34m,\u001B[0m \u001B[0mstate\u001B[0m\u001B[0;34m)\u001B[0m\u001B[0;34m\u001B[0m\u001B[0;34m\u001B[0m\u001B[0m\n\u001B[0m\u001B[1;32m    417\u001B[0m         \u001B[0;32mexcept\u001B[0m \u001B[0mNoSuchOption\u001B[0m\u001B[0;34m:\u001B[0m\u001B[0;34m\u001B[0m\u001B[0;34m\u001B[0m\u001B[0m\n",
      "\u001B[0;32m~/Dokumenter/Programs/miniconda3/envs/HitchhikersGuide2Python-py38/lib/python3.8/site-packages/click/parser.py\u001B[0m in \u001B[0;36m_match_long_opt\u001B[0;34m(self, opt, explicit_value, state)\u001B[0m\n\u001B[1;32m    325\u001B[0m             \u001B[0mpossibilities\u001B[0m \u001B[0;34m=\u001B[0m \u001B[0;34m[\u001B[0m\u001B[0mword\u001B[0m \u001B[0;32mfor\u001B[0m \u001B[0mword\u001B[0m \u001B[0;32min\u001B[0m \u001B[0mself\u001B[0m\u001B[0;34m.\u001B[0m\u001B[0m_long_opt\u001B[0m \u001B[0;32mif\u001B[0m \u001B[0mword\u001B[0m\u001B[0;34m.\u001B[0m\u001B[0mstartswith\u001B[0m\u001B[0;34m(\u001B[0m\u001B[0mopt\u001B[0m\u001B[0;34m)\u001B[0m\u001B[0;34m]\u001B[0m\u001B[0;34m\u001B[0m\u001B[0;34m\u001B[0m\u001B[0m\n\u001B[0;32m--> 326\u001B[0;31m             \u001B[0;32mraise\u001B[0m \u001B[0mNoSuchOption\u001B[0m\u001B[0;34m(\u001B[0m\u001B[0mopt\u001B[0m\u001B[0;34m,\u001B[0m \u001B[0mpossibilities\u001B[0m\u001B[0;34m=\u001B[0m\u001B[0mpossibilities\u001B[0m\u001B[0;34m,\u001B[0m \u001B[0mctx\u001B[0m\u001B[0;34m=\u001B[0m\u001B[0mself\u001B[0m\u001B[0;34m.\u001B[0m\u001B[0mctx\u001B[0m\u001B[0;34m)\u001B[0m\u001B[0;34m\u001B[0m\u001B[0;34m\u001B[0m\u001B[0m\n\u001B[0m\u001B[1;32m    327\u001B[0m \u001B[0;34m\u001B[0m\u001B[0m\n",
      "\u001B[0;31mNoSuchOption\u001B[0m: no such option: -f",
      "\nDuring handling of the above exception, another exception occurred:\n",
      "\u001B[0;31mNoSuchOption\u001B[0m                              Traceback (most recent call last)",
      "\u001B[0;32m~/Dokumenter/Programs/miniconda3/envs/HitchhikersGuide2Python-py38/lib/python3.8/site-packages/click/core.py\u001B[0m in \u001B[0;36mmain\u001B[0;34m(self, args, prog_name, complete_var, standalone_mode, **extra)\u001B[0m\n\u001B[1;32m    780\u001B[0m             \u001B[0;32mtry\u001B[0m\u001B[0;34m:\u001B[0m\u001B[0;34m\u001B[0m\u001B[0;34m\u001B[0m\u001B[0m\n\u001B[0;32m--> 781\u001B[0;31m                 \u001B[0;32mwith\u001B[0m \u001B[0mself\u001B[0m\u001B[0;34m.\u001B[0m\u001B[0mmake_context\u001B[0m\u001B[0;34m(\u001B[0m\u001B[0mprog_name\u001B[0m\u001B[0;34m,\u001B[0m \u001B[0margs\u001B[0m\u001B[0;34m,\u001B[0m \u001B[0;34m**\u001B[0m\u001B[0mextra\u001B[0m\u001B[0;34m)\u001B[0m \u001B[0;32mas\u001B[0m \u001B[0mctx\u001B[0m\u001B[0;34m:\u001B[0m\u001B[0;34m\u001B[0m\u001B[0;34m\u001B[0m\u001B[0m\n\u001B[0m\u001B[1;32m    782\u001B[0m                     \u001B[0mrv\u001B[0m \u001B[0;34m=\u001B[0m \u001B[0mself\u001B[0m\u001B[0;34m.\u001B[0m\u001B[0minvoke\u001B[0m\u001B[0;34m(\u001B[0m\u001B[0mctx\u001B[0m\u001B[0;34m)\u001B[0m\u001B[0;34m\u001B[0m\u001B[0;34m\u001B[0m\u001B[0m\n",
      "\u001B[0;32m~/Dokumenter/Programs/miniconda3/envs/HitchhikersGuide2Python-py38/lib/python3.8/site-packages/click/core.py\u001B[0m in \u001B[0;36mmake_context\u001B[0;34m(self, info_name, args, parent, **extra)\u001B[0m\n\u001B[1;32m    699\u001B[0m         \u001B[0;32mwith\u001B[0m \u001B[0mctx\u001B[0m\u001B[0;34m.\u001B[0m\u001B[0mscope\u001B[0m\u001B[0;34m(\u001B[0m\u001B[0mcleanup\u001B[0m\u001B[0;34m=\u001B[0m\u001B[0;32mFalse\u001B[0m\u001B[0;34m)\u001B[0m\u001B[0;34m:\u001B[0m\u001B[0;34m\u001B[0m\u001B[0;34m\u001B[0m\u001B[0m\n\u001B[0;32m--> 700\u001B[0;31m             \u001B[0mself\u001B[0m\u001B[0;34m.\u001B[0m\u001B[0mparse_args\u001B[0m\u001B[0;34m(\u001B[0m\u001B[0mctx\u001B[0m\u001B[0;34m,\u001B[0m \u001B[0margs\u001B[0m\u001B[0;34m)\u001B[0m\u001B[0;34m\u001B[0m\u001B[0;34m\u001B[0m\u001B[0m\n\u001B[0m\u001B[1;32m    701\u001B[0m         \u001B[0;32mreturn\u001B[0m \u001B[0mctx\u001B[0m\u001B[0;34m\u001B[0m\u001B[0;34m\u001B[0m\u001B[0m\n",
      "\u001B[0;32m~/Dokumenter/Programs/miniconda3/envs/HitchhikersGuide2Python-py38/lib/python3.8/site-packages/click/core.py\u001B[0m in \u001B[0;36mparse_args\u001B[0;34m(self, ctx, args)\u001B[0m\n\u001B[1;32m   1211\u001B[0m \u001B[0;34m\u001B[0m\u001B[0m\n\u001B[0;32m-> 1212\u001B[0;31m         \u001B[0mrest\u001B[0m \u001B[0;34m=\u001B[0m \u001B[0mCommand\u001B[0m\u001B[0;34m.\u001B[0m\u001B[0mparse_args\u001B[0m\u001B[0;34m(\u001B[0m\u001B[0mself\u001B[0m\u001B[0;34m,\u001B[0m \u001B[0mctx\u001B[0m\u001B[0;34m,\u001B[0m \u001B[0margs\u001B[0m\u001B[0;34m)\u001B[0m\u001B[0;34m\u001B[0m\u001B[0;34m\u001B[0m\u001B[0m\n\u001B[0m\u001B[1;32m   1213\u001B[0m         \u001B[0;32mif\u001B[0m \u001B[0mself\u001B[0m\u001B[0;34m.\u001B[0m\u001B[0mchain\u001B[0m\u001B[0;34m:\u001B[0m\u001B[0;34m\u001B[0m\u001B[0;34m\u001B[0m\u001B[0m\n",
      "\u001B[0;32m~/Dokumenter/Programs/miniconda3/envs/HitchhikersGuide2Python-py38/lib/python3.8/site-packages/click/core.py\u001B[0m in \u001B[0;36mparse_args\u001B[0;34m(self, ctx, args)\u001B[0m\n\u001B[1;32m   1044\u001B[0m         \u001B[0mparser\u001B[0m \u001B[0;34m=\u001B[0m \u001B[0mself\u001B[0m\u001B[0;34m.\u001B[0m\u001B[0mmake_parser\u001B[0m\u001B[0;34m(\u001B[0m\u001B[0mctx\u001B[0m\u001B[0;34m)\u001B[0m\u001B[0;34m\u001B[0m\u001B[0;34m\u001B[0m\u001B[0m\n\u001B[0;32m-> 1045\u001B[0;31m         \u001B[0mopts\u001B[0m\u001B[0;34m,\u001B[0m \u001B[0margs\u001B[0m\u001B[0;34m,\u001B[0m \u001B[0mparam_order\u001B[0m \u001B[0;34m=\u001B[0m \u001B[0mparser\u001B[0m\u001B[0;34m.\u001B[0m\u001B[0mparse_args\u001B[0m\u001B[0;34m(\u001B[0m\u001B[0margs\u001B[0m\u001B[0;34m=\u001B[0m\u001B[0margs\u001B[0m\u001B[0;34m)\u001B[0m\u001B[0;34m\u001B[0m\u001B[0;34m\u001B[0m\u001B[0m\n\u001B[0m\u001B[1;32m   1046\u001B[0m \u001B[0;34m\u001B[0m\u001B[0m\n",
      "\u001B[0;32m~/Dokumenter/Programs/miniconda3/envs/HitchhikersGuide2Python-py38/lib/python3.8/site-packages/click/parser.py\u001B[0m in \u001B[0;36mparse_args\u001B[0;34m(self, args)\u001B[0m\n\u001B[1;32m    268\u001B[0m         \u001B[0;32mtry\u001B[0m\u001B[0;34m:\u001B[0m\u001B[0;34m\u001B[0m\u001B[0;34m\u001B[0m\u001B[0m\n\u001B[0;32m--> 269\u001B[0;31m             \u001B[0mself\u001B[0m\u001B[0;34m.\u001B[0m\u001B[0m_process_args_for_options\u001B[0m\u001B[0;34m(\u001B[0m\u001B[0mstate\u001B[0m\u001B[0;34m)\u001B[0m\u001B[0;34m\u001B[0m\u001B[0;34m\u001B[0m\u001B[0m\n\u001B[0m\u001B[1;32m    270\u001B[0m             \u001B[0mself\u001B[0m\u001B[0;34m.\u001B[0m\u001B[0m_process_args_for_args\u001B[0m\u001B[0;34m(\u001B[0m\u001B[0mstate\u001B[0m\u001B[0;34m)\u001B[0m\u001B[0;34m\u001B[0m\u001B[0;34m\u001B[0m\u001B[0m\n",
      "\u001B[0;32m~/Dokumenter/Programs/miniconda3/envs/HitchhikersGuide2Python-py38/lib/python3.8/site-packages/click/parser.py\u001B[0m in \u001B[0;36m_process_args_for_options\u001B[0;34m(self, state)\u001B[0m\n\u001B[1;32m    295\u001B[0m             \u001B[0;32melif\u001B[0m \u001B[0marg\u001B[0m\u001B[0;34m[\u001B[0m\u001B[0;34m:\u001B[0m\u001B[0;36m1\u001B[0m\u001B[0;34m]\u001B[0m \u001B[0;32min\u001B[0m \u001B[0mself\u001B[0m\u001B[0;34m.\u001B[0m\u001B[0m_opt_prefixes\u001B[0m \u001B[0;32mand\u001B[0m \u001B[0marglen\u001B[0m \u001B[0;34m>\u001B[0m \u001B[0;36m1\u001B[0m\u001B[0;34m:\u001B[0m\u001B[0;34m\u001B[0m\u001B[0;34m\u001B[0m\u001B[0m\n\u001B[0;32m--> 296\u001B[0;31m                 \u001B[0mself\u001B[0m\u001B[0;34m.\u001B[0m\u001B[0m_process_opts\u001B[0m\u001B[0;34m(\u001B[0m\u001B[0marg\u001B[0m\u001B[0;34m,\u001B[0m \u001B[0mstate\u001B[0m\u001B[0;34m)\u001B[0m\u001B[0;34m\u001B[0m\u001B[0;34m\u001B[0m\u001B[0m\n\u001B[0m\u001B[1;32m    297\u001B[0m             \u001B[0;32melif\u001B[0m \u001B[0mself\u001B[0m\u001B[0;34m.\u001B[0m\u001B[0mallow_interspersed_args\u001B[0m\u001B[0;34m:\u001B[0m\u001B[0;34m\u001B[0m\u001B[0;34m\u001B[0m\u001B[0m\n",
      "\u001B[0;32m~/Dokumenter/Programs/miniconda3/envs/HitchhikersGuide2Python-py38/lib/python3.8/site-packages/click/parser.py\u001B[0m in \u001B[0;36m_process_opts\u001B[0;34m(self, arg, state)\u001B[0m\n\u001B[1;32m    424\u001B[0m             \u001B[0;32mif\u001B[0m \u001B[0marg\u001B[0m\u001B[0;34m[\u001B[0m\u001B[0;34m:\u001B[0m\u001B[0;36m2\u001B[0m\u001B[0;34m]\u001B[0m \u001B[0;32mnot\u001B[0m \u001B[0;32min\u001B[0m \u001B[0mself\u001B[0m\u001B[0;34m.\u001B[0m\u001B[0m_opt_prefixes\u001B[0m\u001B[0;34m:\u001B[0m\u001B[0;34m\u001B[0m\u001B[0;34m\u001B[0m\u001B[0m\n\u001B[0;32m--> 425\u001B[0;31m                 \u001B[0;32mreturn\u001B[0m \u001B[0mself\u001B[0m\u001B[0;34m.\u001B[0m\u001B[0m_match_short_opt\u001B[0m\u001B[0;34m(\u001B[0m\u001B[0marg\u001B[0m\u001B[0;34m,\u001B[0m \u001B[0mstate\u001B[0m\u001B[0;34m)\u001B[0m\u001B[0;34m\u001B[0m\u001B[0;34m\u001B[0m\u001B[0m\n\u001B[0m\u001B[1;32m    426\u001B[0m             \u001B[0;32mif\u001B[0m \u001B[0;32mnot\u001B[0m \u001B[0mself\u001B[0m\u001B[0;34m.\u001B[0m\u001B[0mignore_unknown_options\u001B[0m\u001B[0;34m:\u001B[0m\u001B[0;34m\u001B[0m\u001B[0;34m\u001B[0m\u001B[0m\n",
      "\u001B[0;32m~/Dokumenter/Programs/miniconda3/envs/HitchhikersGuide2Python-py38/lib/python3.8/site-packages/click/parser.py\u001B[0m in \u001B[0;36m_match_short_opt\u001B[0;34m(self, arg, state)\u001B[0m\n\u001B[1;32m    368\u001B[0m                     \u001B[0;32mcontinue\u001B[0m\u001B[0;34m\u001B[0m\u001B[0;34m\u001B[0m\u001B[0m\n\u001B[0;32m--> 369\u001B[0;31m                 \u001B[0;32mraise\u001B[0m \u001B[0mNoSuchOption\u001B[0m\u001B[0;34m(\u001B[0m\u001B[0mopt\u001B[0m\u001B[0;34m,\u001B[0m \u001B[0mctx\u001B[0m\u001B[0;34m=\u001B[0m\u001B[0mself\u001B[0m\u001B[0;34m.\u001B[0m\u001B[0mctx\u001B[0m\u001B[0;34m)\u001B[0m\u001B[0;34m\u001B[0m\u001B[0;34m\u001B[0m\u001B[0m\n\u001B[0m\u001B[1;32m    370\u001B[0m             \u001B[0;32mif\u001B[0m \u001B[0moption\u001B[0m\u001B[0;34m.\u001B[0m\u001B[0mtakes_value\u001B[0m\u001B[0;34m:\u001B[0m\u001B[0;34m\u001B[0m\u001B[0;34m\u001B[0m\u001B[0m\n",
      "\u001B[0;31mNoSuchOption\u001B[0m: no such option: -f",
      "\nDuring handling of the above exception, another exception occurred:\n",
      "\u001B[0;31mSystemExit\u001B[0m                                Traceback (most recent call last)",
      "\u001B[0;32m~/Dokumenter/Programs/miniconda3/envs/HitchhikersGuide2Python-py38/lib/python3.8/site-packages/IPython/core/interactiveshell.py\u001B[0m in \u001B[0;36mrun_code\u001B[0;34m(self, code_obj, result, async_)\u001B[0m\n\u001B[1;32m   3330\u001B[0m                 \u001B[0;32melse\u001B[0m\u001B[0;34m:\u001B[0m\u001B[0;34m\u001B[0m\u001B[0;34m\u001B[0m\u001B[0m\n\u001B[0;32m-> 3331\u001B[0;31m                     \u001B[0mexec\u001B[0m\u001B[0;34m(\u001B[0m\u001B[0mcode_obj\u001B[0m\u001B[0;34m,\u001B[0m \u001B[0mself\u001B[0m\u001B[0;34m.\u001B[0m\u001B[0muser_global_ns\u001B[0m\u001B[0;34m,\u001B[0m \u001B[0mself\u001B[0m\u001B[0;34m.\u001B[0m\u001B[0muser_ns\u001B[0m\u001B[0;34m)\u001B[0m\u001B[0;34m\u001B[0m\u001B[0;34m\u001B[0m\u001B[0m\n\u001B[0m\u001B[1;32m   3332\u001B[0m             \u001B[0;32mfinally\u001B[0m\u001B[0;34m:\u001B[0m\u001B[0;34m\u001B[0m\u001B[0;34m\u001B[0m\u001B[0m\n",
      "\u001B[0;32m<ipython-input-7-90b69494d478>\u001B[0m in \u001B[0;36m<module>\u001B[0;34m\u001B[0m\n\u001B[1;32m     13\u001B[0m \u001B[0;32mif\u001B[0m \u001B[0m__name__\u001B[0m \u001B[0;34m==\u001B[0m \u001B[0;34m'__main__'\u001B[0m\u001B[0;34m:\u001B[0m\u001B[0;34m\u001B[0m\u001B[0;34m\u001B[0m\u001B[0m\n\u001B[0;32m---> 14\u001B[0;31m     \u001B[0mcli\u001B[0m\u001B[0;34m(\u001B[0m\u001B[0;34m)\u001B[0m\u001B[0;34m\u001B[0m\u001B[0;34m\u001B[0m\u001B[0m\n\u001B[0m",
      "\u001B[0;32m~/Dokumenter/Programs/miniconda3/envs/HitchhikersGuide2Python-py38/lib/python3.8/site-packages/click/core.py\u001B[0m in \u001B[0;36m__call__\u001B[0;34m(self, *args, **kwargs)\u001B[0m\n\u001B[1;32m    828\u001B[0m         \u001B[0;34m\"\"\"Alias for :meth:`main`.\"\"\"\u001B[0m\u001B[0;34m\u001B[0m\u001B[0;34m\u001B[0m\u001B[0m\n\u001B[0;32m--> 829\u001B[0;31m         \u001B[0;32mreturn\u001B[0m \u001B[0mself\u001B[0m\u001B[0;34m.\u001B[0m\u001B[0mmain\u001B[0m\u001B[0;34m(\u001B[0m\u001B[0;34m*\u001B[0m\u001B[0margs\u001B[0m\u001B[0;34m,\u001B[0m \u001B[0;34m**\u001B[0m\u001B[0mkwargs\u001B[0m\u001B[0;34m)\u001B[0m\u001B[0;34m\u001B[0m\u001B[0;34m\u001B[0m\u001B[0m\n\u001B[0m\u001B[1;32m    830\u001B[0m \u001B[0;34m\u001B[0m\u001B[0m\n",
      "\u001B[0;32m~/Dokumenter/Programs/miniconda3/envs/HitchhikersGuide2Python-py38/lib/python3.8/site-packages/click/core.py\u001B[0m in \u001B[0;36mmain\u001B[0;34m(self, args, prog_name, complete_var, standalone_mode, **extra)\u001B[0m\n\u001B[1;32m    799\u001B[0m                 \u001B[0me\u001B[0m\u001B[0;34m.\u001B[0m\u001B[0mshow\u001B[0m\u001B[0;34m(\u001B[0m\u001B[0;34m)\u001B[0m\u001B[0;34m\u001B[0m\u001B[0;34m\u001B[0m\u001B[0m\n\u001B[0;32m--> 800\u001B[0;31m                 \u001B[0msys\u001B[0m\u001B[0;34m.\u001B[0m\u001B[0mexit\u001B[0m\u001B[0;34m(\u001B[0m\u001B[0me\u001B[0m\u001B[0;34m.\u001B[0m\u001B[0mexit_code\u001B[0m\u001B[0;34m)\u001B[0m\u001B[0;34m\u001B[0m\u001B[0;34m\u001B[0m\u001B[0m\n\u001B[0m\u001B[1;32m    801\u001B[0m             \u001B[0;32mexcept\u001B[0m \u001B[0mIOError\u001B[0m \u001B[0;32mas\u001B[0m \u001B[0me\u001B[0m\u001B[0;34m:\u001B[0m\u001B[0;34m\u001B[0m\u001B[0;34m\u001B[0m\u001B[0m\n",
      "\u001B[0;31mSystemExit\u001B[0m: 2",
      "\nDuring handling of the above exception, another exception occurred:\n",
      "\u001B[0;31mTypeError\u001B[0m                                 Traceback (most recent call last)",
      "\u001B[0;32m~/Dokumenter/Programs/miniconda3/envs/HitchhikersGuide2Python-py38/lib/python3.8/site-packages/IPython/core/interactiveshell.py\u001B[0m in \u001B[0;36mrun_code\u001B[0;34m(self, code_obj, result, async_)\u001B[0m\n\u001B[1;32m   3336\u001B[0m             \u001B[0;32mif\u001B[0m \u001B[0mresult\u001B[0m \u001B[0;32mis\u001B[0m \u001B[0;32mnot\u001B[0m \u001B[0;32mNone\u001B[0m\u001B[0;34m:\u001B[0m\u001B[0;34m\u001B[0m\u001B[0;34m\u001B[0m\u001B[0m\n\u001B[1;32m   3337\u001B[0m                 \u001B[0mresult\u001B[0m\u001B[0;34m.\u001B[0m\u001B[0merror_in_exec\u001B[0m \u001B[0;34m=\u001B[0m \u001B[0me\u001B[0m\u001B[0;34m\u001B[0m\u001B[0;34m\u001B[0m\u001B[0m\n\u001B[0;32m-> 3338\u001B[0;31m             \u001B[0mself\u001B[0m\u001B[0;34m.\u001B[0m\u001B[0mshowtraceback\u001B[0m\u001B[0;34m(\u001B[0m\u001B[0mexception_only\u001B[0m\u001B[0;34m=\u001B[0m\u001B[0;32mTrue\u001B[0m\u001B[0;34m)\u001B[0m\u001B[0;34m\u001B[0m\u001B[0;34m\u001B[0m\u001B[0m\n\u001B[0m\u001B[1;32m   3339\u001B[0m             \u001B[0mwarn\u001B[0m\u001B[0;34m(\u001B[0m\u001B[0;34m\"To exit: use 'exit', 'quit', or Ctrl-D.\"\u001B[0m\u001B[0;34m,\u001B[0m \u001B[0mstacklevel\u001B[0m\u001B[0;34m=\u001B[0m\u001B[0;36m1\u001B[0m\u001B[0;34m)\u001B[0m\u001B[0;34m\u001B[0m\u001B[0;34m\u001B[0m\u001B[0m\n\u001B[1;32m   3340\u001B[0m         \u001B[0;32mexcept\u001B[0m \u001B[0mself\u001B[0m\u001B[0;34m.\u001B[0m\u001B[0mcustom_exceptions\u001B[0m\u001B[0;34m:\u001B[0m\u001B[0;34m\u001B[0m\u001B[0;34m\u001B[0m\u001B[0m\n",
      "\u001B[0;32m~/Dokumenter/Programs/miniconda3/envs/HitchhikersGuide2Python-py38/lib/python3.8/site-packages/IPython/core/interactiveshell.py\u001B[0m in \u001B[0;36mshowtraceback\u001B[0;34m(self, exc_tuple, filename, tb_offset, exception_only, running_compiled_code)\u001B[0m\n\u001B[1;32m   2035\u001B[0m                     stb = ['An exception has occurred, use %tb to see '\n\u001B[1;32m   2036\u001B[0m                            'the full traceback.\\n']\n\u001B[0;32m-> 2037\u001B[0;31m                     stb.extend(self.InteractiveTB.get_exception_only(etype,\n\u001B[0m\u001B[1;32m   2038\u001B[0m                                                                      value))\n\u001B[1;32m   2039\u001B[0m                 \u001B[0;32melse\u001B[0m\u001B[0;34m:\u001B[0m\u001B[0;34m\u001B[0m\u001B[0;34m\u001B[0m\u001B[0m\n",
      "\u001B[0;32m~/Dokumenter/Programs/miniconda3/envs/HitchhikersGuide2Python-py38/lib/python3.8/site-packages/IPython/core/ultratb.py\u001B[0m in \u001B[0;36mget_exception_only\u001B[0;34m(self, etype, value)\u001B[0m\n\u001B[1;32m    821\u001B[0m         \u001B[0mvalue\u001B[0m \u001B[0;34m:\u001B[0m \u001B[0mexception\u001B[0m \u001B[0mvalue\u001B[0m\u001B[0;34m\u001B[0m\u001B[0;34m\u001B[0m\u001B[0m\n\u001B[1;32m    822\u001B[0m         \"\"\"\n\u001B[0;32m--> 823\u001B[0;31m         \u001B[0;32mreturn\u001B[0m \u001B[0mListTB\u001B[0m\u001B[0;34m.\u001B[0m\u001B[0mstructured_traceback\u001B[0m\u001B[0;34m(\u001B[0m\u001B[0mself\u001B[0m\u001B[0;34m,\u001B[0m \u001B[0metype\u001B[0m\u001B[0;34m,\u001B[0m \u001B[0mvalue\u001B[0m\u001B[0;34m)\u001B[0m\u001B[0;34m\u001B[0m\u001B[0;34m\u001B[0m\u001B[0m\n\u001B[0m\u001B[1;32m    824\u001B[0m \u001B[0;34m\u001B[0m\u001B[0m\n\u001B[1;32m    825\u001B[0m     \u001B[0;32mdef\u001B[0m \u001B[0mshow_exception_only\u001B[0m\u001B[0;34m(\u001B[0m\u001B[0mself\u001B[0m\u001B[0;34m,\u001B[0m \u001B[0metype\u001B[0m\u001B[0;34m,\u001B[0m \u001B[0mevalue\u001B[0m\u001B[0;34m)\u001B[0m\u001B[0;34m:\u001B[0m\u001B[0;34m\u001B[0m\u001B[0;34m\u001B[0m\u001B[0m\n",
      "\u001B[0;32m~/Dokumenter/Programs/miniconda3/envs/HitchhikersGuide2Python-py38/lib/python3.8/site-packages/IPython/core/ultratb.py\u001B[0m in \u001B[0;36mstructured_traceback\u001B[0;34m(self, etype, evalue, etb, tb_offset, context)\u001B[0m\n\u001B[1;32m    696\u001B[0m             \u001B[0mchained_exceptions_tb_offset\u001B[0m \u001B[0;34m=\u001B[0m \u001B[0;36m0\u001B[0m\u001B[0;34m\u001B[0m\u001B[0;34m\u001B[0m\u001B[0m\n\u001B[1;32m    697\u001B[0m             out_list = (\n\u001B[0;32m--> 698\u001B[0;31m                 self.structured_traceback(\n\u001B[0m\u001B[1;32m    699\u001B[0m                     \u001B[0metype\u001B[0m\u001B[0;34m,\u001B[0m \u001B[0mevalue\u001B[0m\u001B[0;34m,\u001B[0m \u001B[0;34m(\u001B[0m\u001B[0metb\u001B[0m\u001B[0;34m,\u001B[0m \u001B[0mchained_exc_ids\u001B[0m\u001B[0;34m)\u001B[0m\u001B[0;34m,\u001B[0m\u001B[0;34m\u001B[0m\u001B[0;34m\u001B[0m\u001B[0m\n\u001B[1;32m    700\u001B[0m                     chained_exceptions_tb_offset, context)\n",
      "\u001B[0;32m~/Dokumenter/Programs/miniconda3/envs/HitchhikersGuide2Python-py38/lib/python3.8/site-packages/IPython/core/ultratb.py\u001B[0m in \u001B[0;36mstructured_traceback\u001B[0;34m(self, etype, value, tb, tb_offset, number_of_lines_of_context)\u001B[0m\n\u001B[1;32m   1412\u001B[0m         \u001B[0;32melse\u001B[0m\u001B[0;34m:\u001B[0m\u001B[0;34m\u001B[0m\u001B[0;34m\u001B[0m\u001B[0m\n\u001B[1;32m   1413\u001B[0m             \u001B[0mself\u001B[0m\u001B[0;34m.\u001B[0m\u001B[0mtb\u001B[0m \u001B[0;34m=\u001B[0m \u001B[0mtb\u001B[0m\u001B[0;34m\u001B[0m\u001B[0;34m\u001B[0m\u001B[0m\n\u001B[0;32m-> 1414\u001B[0;31m         return FormattedTB.structured_traceback(\n\u001B[0m\u001B[1;32m   1415\u001B[0m             self, etype, value, tb, tb_offset, number_of_lines_of_context)\n\u001B[1;32m   1416\u001B[0m \u001B[0;34m\u001B[0m\u001B[0m\n",
      "\u001B[0;32m~/Dokumenter/Programs/miniconda3/envs/HitchhikersGuide2Python-py38/lib/python3.8/site-packages/IPython/core/ultratb.py\u001B[0m in \u001B[0;36mstructured_traceback\u001B[0;34m(self, etype, value, tb, tb_offset, number_of_lines_of_context)\u001B[0m\n\u001B[1;32m   1312\u001B[0m         \u001B[0;32mif\u001B[0m \u001B[0mmode\u001B[0m \u001B[0;32min\u001B[0m \u001B[0mself\u001B[0m\u001B[0;34m.\u001B[0m\u001B[0mverbose_modes\u001B[0m\u001B[0;34m:\u001B[0m\u001B[0;34m\u001B[0m\u001B[0;34m\u001B[0m\u001B[0m\n\u001B[1;32m   1313\u001B[0m             \u001B[0;31m# Verbose modes need a full traceback\u001B[0m\u001B[0;34m\u001B[0m\u001B[0;34m\u001B[0m\u001B[0;34m\u001B[0m\u001B[0m\n\u001B[0;32m-> 1314\u001B[0;31m             return VerboseTB.structured_traceback(\n\u001B[0m\u001B[1;32m   1315\u001B[0m                 \u001B[0mself\u001B[0m\u001B[0;34m,\u001B[0m \u001B[0metype\u001B[0m\u001B[0;34m,\u001B[0m \u001B[0mvalue\u001B[0m\u001B[0;34m,\u001B[0m \u001B[0mtb\u001B[0m\u001B[0;34m,\u001B[0m \u001B[0mtb_offset\u001B[0m\u001B[0;34m,\u001B[0m \u001B[0mnumber_of_lines_of_context\u001B[0m\u001B[0;34m\u001B[0m\u001B[0;34m\u001B[0m\u001B[0m\n\u001B[1;32m   1316\u001B[0m             )\n",
      "\u001B[0;32m~/Dokumenter/Programs/miniconda3/envs/HitchhikersGuide2Python-py38/lib/python3.8/site-packages/IPython/core/ultratb.py\u001B[0m in \u001B[0;36mstructured_traceback\u001B[0;34m(self, etype, evalue, etb, tb_offset, number_of_lines_of_context)\u001B[0m\n\u001B[1;32m   1181\u001B[0m         \u001B[0mexception\u001B[0m \u001B[0;34m=\u001B[0m \u001B[0mself\u001B[0m\u001B[0;34m.\u001B[0m\u001B[0mget_parts_of_chained_exception\u001B[0m\u001B[0;34m(\u001B[0m\u001B[0mevalue\u001B[0m\u001B[0;34m)\u001B[0m\u001B[0;34m\u001B[0m\u001B[0;34m\u001B[0m\u001B[0m\n\u001B[1;32m   1182\u001B[0m         \u001B[0;32mif\u001B[0m \u001B[0mexception\u001B[0m\u001B[0;34m:\u001B[0m\u001B[0;34m\u001B[0m\u001B[0;34m\u001B[0m\u001B[0m\n\u001B[0;32m-> 1183\u001B[0;31m             \u001B[0mformatted_exceptions\u001B[0m \u001B[0;34m+=\u001B[0m \u001B[0mself\u001B[0m\u001B[0;34m.\u001B[0m\u001B[0mprepare_chained_exception_message\u001B[0m\u001B[0;34m(\u001B[0m\u001B[0mevalue\u001B[0m\u001B[0;34m.\u001B[0m\u001B[0m__cause__\u001B[0m\u001B[0;34m)\u001B[0m\u001B[0;34m\u001B[0m\u001B[0;34m\u001B[0m\u001B[0m\n\u001B[0m\u001B[1;32m   1184\u001B[0m             \u001B[0metype\u001B[0m\u001B[0;34m,\u001B[0m \u001B[0mevalue\u001B[0m\u001B[0;34m,\u001B[0m \u001B[0metb\u001B[0m \u001B[0;34m=\u001B[0m \u001B[0mexception\u001B[0m\u001B[0;34m\u001B[0m\u001B[0;34m\u001B[0m\u001B[0m\n\u001B[1;32m   1185\u001B[0m         \u001B[0;32melse\u001B[0m\u001B[0;34m:\u001B[0m\u001B[0;34m\u001B[0m\u001B[0;34m\u001B[0m\u001B[0m\n",
      "\u001B[0;31mTypeError\u001B[0m: can only concatenate str (not \"list\") to str"
     ]
    }
   ],
   "source": [
    "import click\n",
    "\n",
    "@click.group()\n",
    "@click.option('--verbose', is_flag=True)\n",
    "@click.pass_context\n",
    "def cli(ctx, verbose):\n",
    "    ctx.obj = dict(verbose = verbose)\n",
    "    if ctx.obj['verbose']:\n",
    "        click.echo(\"Now I am verbose.\")\n",
    "\n",
    "#  The 'hello' function is the same as before...\n",
    "\n",
    "if __name__ == '__main__':\n",
    "    cli()"
   ],
   "metadata": {
    "collapsed": false,
    "pycharm": {
     "name": "#%%\n"
    }
   }
  },
  {
   "cell_type": "code",
   "execution_count": 8,
   "outputs": [
    {
     "name": "stdout",
     "output_type": "stream",
     "text": [
      "\n",
      "Usage string.\n",
      "\n"
     ]
    },
    {
     "ename": "SystemExit",
     "evalue": "0",
     "output_type": "error",
     "traceback": [
      "An exception has occurred, use %tb to see the full traceback.\n",
      "\u001B[0;31mSystemExit\u001B[0m\u001B[0;31m:\u001B[0m 0\n"
     ]
    },
    {
     "name": "stderr",
     "output_type": "stream",
     "text": [
      "/home/af/Dokumenter/Programs/miniconda3/envs/HitchhikersGuide2Python-py38/lib/python3.8/site-packages/IPython/core/interactiveshell.py:3339: UserWarning: To exit: use 'exit', 'quit', or Ctrl-D.\n",
      "  warn(\"To exit: use 'exit', 'quit', or Ctrl-D.\", stacklevel=1)\n"
     ]
    }
   ],
   "source": [
    "\"\"\"\n",
    "Usage string.\n",
    "\"\"\"\n",
    "from clint.arguments import Args\n",
    "from clint.textui import colored, columns, indent, puts\n",
    "\n",
    "def hello(name, capitalize, repetitions):\n",
    "    if capitalize:\n",
    "        name = name.upper()\n",
    "    with indent(5, quote=colored.magenta(' ~*~', bold=True)):\n",
    "        for i in range(repetitions):\n",
    "            greeting = 'Hello {}'.format(colored.green(name))\n",
    "            puts(greeting)\n",
    "\n",
    "\n",
    "if __name__ == '__main__':\n",
    "    args = Args()\n",
    "    # First check and display the help message\n",
    "    if len(args.not_flags) == 0 or args.any_contain('-h'):\n",
    "        puts(colored.red(__doc__))\n",
    "        import sys\n",
    "        sys.exit(0)\n",
    "\n",
    "    name = \" \".join(args.grouped['_'].all)\n",
    "    capitalize = args.any_contain('-c')\n",
    "    repetitions = int(args.value_after('--reps') or 1)\n",
    "    hello(name, capitalize=capitalize, repetitions=repetitions)"
   ],
   "metadata": {
    "collapsed": false,
    "pycharm": {
     "name": "#%%\n"
    }
   }
  },
  {
   "cell_type": "code",
   "execution_count": 9,
   "outputs": [
    {
     "ename": "SyntaxError",
     "evalue": "positional argument follows keyword argument (<ipython-input-9-fe5ff24603a5>, line 38)",
     "output_type": "error",
     "traceback": [
      "\u001B[0;36m  File \u001B[0;32m\"<ipython-input-9-fe5ff24603a5>\"\u001B[0;36m, line \u001B[0;32m38\u001B[0m\n\u001B[0;31m    command_manager=CommandManager('named_in_setup_py'),  6\u001B[0m\n\u001B[0m                                                          ^\u001B[0m\n\u001B[0;31mSyntaxError\u001B[0m\u001B[0;31m:\u001B[0m positional argument follows keyword argument\n"
     ]
    }
   ],
   "source": [
    "import sys\n",
    "\n",
    "from argparse import ArgumentParser\n",
    "from pkg_resources import get_distribution\n",
    "\n",
    "from cliff.app import App\n",
    "from cliff.command import Command\n",
    "from cliff.commandmanager import CommandManager\n",
    "\n",
    "__version__ = get_distribution('HelloCliff').version\n",
    "\n",
    "class Hello(Command):\n",
    "    \"\"\"\n",
    "    Say hello to someone.\n",
    "    \"\"\"\n",
    "\n",
    "    def get_parser(self, prog_name):\n",
    "        parser = ArgumentParser(description=\"Hello command\", prog=prog_name)\n",
    "        parser.add_argument('--num', type=int, default=1, help='repetitions')\n",
    "        parser.add_argument('--capitalize', action='store_true')\n",
    "        parser.add_argument('name', help='person\\'s name')\n",
    "        return parser\n",
    "\n",
    "    def take_action(self, parsed_args):\n",
    "        if parsed_args.capitalize:\n",
    "            name = parsed_args.name.upper()\n",
    "        else:\n",
    "            name = parsed_args.name\n",
    "        for i in range(parsed_args.num):\n",
    "            self.app.stdout.write(\"Hello from cliff, {}.\\n\".format(name))\n",
    "\n",
    "\n",
    "class MyApp(cliff.app.App):\n",
    "    def __init__(self):\n",
    "        super(MyApp, self).__init__(\n",
    "            description='Minimal app in Cliff',\n",
    "            version=__version__,\n",
    "            command_manager=CommandManager('named_in_setup_py'),  6\n",
    "        )\n",
    "\n",
    "\n",
    "def main(argv=sys.argv[1:]):\n",
    "    myapp = MyApp()\n",
    "    return myapp.run(argv)"
   ],
   "metadata": {
    "collapsed": false,
    "pycharm": {
     "name": "#%%\n"
    }
   }
  },
  {
   "cell_type": "code",
   "execution_count": 12,
   "outputs": [
    {
     "ename": "RuntimeError",
     "evalue": "This event loop is already running",
     "output_type": "error",
     "traceback": [
      "\u001B[0;31m---------------------------------------------------------------------------\u001B[0m",
      "\u001B[0;31mRuntimeError\u001B[0m                              Traceback (most recent call last)",
      "\u001B[0;32m<ipython-input-12-7e2cd7dc9030>\u001B[0m in \u001B[0;36m<module>\u001B[0;34m\u001B[0m\n\u001B[1;32m     36\u001B[0m     \u001B[0;31m# Set up the server\u001B[0m\u001B[0;34m\u001B[0m\u001B[0;34m\u001B[0m\u001B[0;34m\u001B[0m\u001B[0m\n\u001B[1;32m     37\u001B[0m     \u001B[0mapplication\u001B[0m\u001B[0;34m.\u001B[0m\u001B[0mlisten\u001B[0m\u001B[0;34m(\u001B[0m\u001B[0mPORT\u001B[0m\u001B[0;34m)\u001B[0m\u001B[0;34m\u001B[0m\u001B[0;34m\u001B[0m\u001B[0m\n\u001B[0;32m---> 38\u001B[0;31m     \u001B[0mtornado\u001B[0m\u001B[0;34m.\u001B[0m\u001B[0mioloop\u001B[0m\u001B[0;34m.\u001B[0m\u001B[0mIOLoop\u001B[0m\u001B[0;34m.\u001B[0m\u001B[0minstance\u001B[0m\u001B[0;34m(\u001B[0m\u001B[0;34m)\u001B[0m\u001B[0;34m.\u001B[0m\u001B[0mstart\u001B[0m\u001B[0;34m(\u001B[0m\u001B[0;34m)\u001B[0m\u001B[0;34m\u001B[0m\u001B[0;34m\u001B[0m\u001B[0m\n\u001B[0m\u001B[1;32m     39\u001B[0m \u001B[0;34m\u001B[0m\u001B[0m\n",
      "\u001B[0;32m~/Dokumenter/Programs/miniconda3/envs/HitchhikersGuide2Python-py38/lib/python3.8/site-packages/tornado/platform/asyncio.py\u001B[0m in \u001B[0;36mstart\u001B[0;34m(self)\u001B[0m\n\u001B[1;32m    147\u001B[0m             \u001B[0mself\u001B[0m\u001B[0;34m.\u001B[0m\u001B[0m_setup_logging\u001B[0m\u001B[0;34m(\u001B[0m\u001B[0;34m)\u001B[0m\u001B[0;34m\u001B[0m\u001B[0;34m\u001B[0m\u001B[0m\n\u001B[1;32m    148\u001B[0m             \u001B[0masyncio\u001B[0m\u001B[0;34m.\u001B[0m\u001B[0mset_event_loop\u001B[0m\u001B[0;34m(\u001B[0m\u001B[0mself\u001B[0m\u001B[0;34m.\u001B[0m\u001B[0masyncio_loop\u001B[0m\u001B[0;34m)\u001B[0m\u001B[0;34m\u001B[0m\u001B[0;34m\u001B[0m\u001B[0m\n\u001B[0;32m--> 149\u001B[0;31m             \u001B[0mself\u001B[0m\u001B[0;34m.\u001B[0m\u001B[0masyncio_loop\u001B[0m\u001B[0;34m.\u001B[0m\u001B[0mrun_forever\u001B[0m\u001B[0;34m(\u001B[0m\u001B[0;34m)\u001B[0m\u001B[0;34m\u001B[0m\u001B[0;34m\u001B[0m\u001B[0m\n\u001B[0m\u001B[1;32m    150\u001B[0m         \u001B[0;32mfinally\u001B[0m\u001B[0;34m:\u001B[0m\u001B[0;34m\u001B[0m\u001B[0;34m\u001B[0m\u001B[0m\n\u001B[1;32m    151\u001B[0m             \u001B[0masyncio\u001B[0m\u001B[0;34m.\u001B[0m\u001B[0mset_event_loop\u001B[0m\u001B[0;34m(\u001B[0m\u001B[0mold_loop\u001B[0m\u001B[0;34m)\u001B[0m\u001B[0;34m\u001B[0m\u001B[0;34m\u001B[0m\u001B[0m\n",
      "\u001B[0;32m~/Dokumenter/Programs/miniconda3/envs/HitchhikersGuide2Python-py38/lib/python3.8/asyncio/base_events.py\u001B[0m in \u001B[0;36mrun_forever\u001B[0;34m(self)\u001B[0m\n\u001B[1;32m    558\u001B[0m         \u001B[0;34m\"\"\"Run until stop() is called.\"\"\"\u001B[0m\u001B[0;34m\u001B[0m\u001B[0;34m\u001B[0m\u001B[0m\n\u001B[1;32m    559\u001B[0m         \u001B[0mself\u001B[0m\u001B[0;34m.\u001B[0m\u001B[0m_check_closed\u001B[0m\u001B[0;34m(\u001B[0m\u001B[0;34m)\u001B[0m\u001B[0;34m\u001B[0m\u001B[0;34m\u001B[0m\u001B[0m\n\u001B[0;32m--> 560\u001B[0;31m         \u001B[0mself\u001B[0m\u001B[0;34m.\u001B[0m\u001B[0m_check_running\u001B[0m\u001B[0;34m(\u001B[0m\u001B[0;34m)\u001B[0m\u001B[0;34m\u001B[0m\u001B[0;34m\u001B[0m\u001B[0m\n\u001B[0m\u001B[1;32m    561\u001B[0m         \u001B[0mself\u001B[0m\u001B[0;34m.\u001B[0m\u001B[0m_set_coroutine_origin_tracking\u001B[0m\u001B[0;34m(\u001B[0m\u001B[0mself\u001B[0m\u001B[0;34m.\u001B[0m\u001B[0m_debug\u001B[0m\u001B[0;34m)\u001B[0m\u001B[0;34m\u001B[0m\u001B[0;34m\u001B[0m\u001B[0m\n\u001B[1;32m    562\u001B[0m         \u001B[0mself\u001B[0m\u001B[0;34m.\u001B[0m\u001B[0m_thread_id\u001B[0m \u001B[0;34m=\u001B[0m \u001B[0mthreading\u001B[0m\u001B[0;34m.\u001B[0m\u001B[0mget_ident\u001B[0m\u001B[0;34m(\u001B[0m\u001B[0;34m)\u001B[0m\u001B[0;34m\u001B[0m\u001B[0;34m\u001B[0m\u001B[0m\n",
      "\u001B[0;32m~/Dokumenter/Programs/miniconda3/envs/HitchhikersGuide2Python-py38/lib/python3.8/asyncio/base_events.py\u001B[0m in \u001B[0;36m_check_running\u001B[0;34m(self)\u001B[0m\n\u001B[1;32m    550\u001B[0m     \u001B[0;32mdef\u001B[0m \u001B[0m_check_running\u001B[0m\u001B[0;34m(\u001B[0m\u001B[0mself\u001B[0m\u001B[0;34m)\u001B[0m\u001B[0;34m:\u001B[0m\u001B[0;34m\u001B[0m\u001B[0;34m\u001B[0m\u001B[0m\n\u001B[1;32m    551\u001B[0m         \u001B[0;32mif\u001B[0m \u001B[0mself\u001B[0m\u001B[0;34m.\u001B[0m\u001B[0mis_running\u001B[0m\u001B[0;34m(\u001B[0m\u001B[0;34m)\u001B[0m\u001B[0;34m:\u001B[0m\u001B[0;34m\u001B[0m\u001B[0;34m\u001B[0m\u001B[0m\n\u001B[0;32m--> 552\u001B[0;31m             \u001B[0;32mraise\u001B[0m \u001B[0mRuntimeError\u001B[0m\u001B[0;34m(\u001B[0m\u001B[0;34m'This event loop is already running'\u001B[0m\u001B[0;34m)\u001B[0m\u001B[0;34m\u001B[0m\u001B[0;34m\u001B[0m\u001B[0m\n\u001B[0m\u001B[1;32m    553\u001B[0m         \u001B[0;32mif\u001B[0m \u001B[0mevents\u001B[0m\u001B[0;34m.\u001B[0m\u001B[0m_get_running_loop\u001B[0m\u001B[0;34m(\u001B[0m\u001B[0;34m)\u001B[0m \u001B[0;32mis\u001B[0m \u001B[0;32mnot\u001B[0m \u001B[0;32mNone\u001B[0m\u001B[0;34m:\u001B[0m\u001B[0;34m\u001B[0m\u001B[0;34m\u001B[0m\u001B[0m\n\u001B[1;32m    554\u001B[0m             raise RuntimeError(\n",
      "\u001B[0;31mRuntimeError\u001B[0m: This event loop is already running"
     ]
    }
   ],
   "source": [
    "# import Jinja2\n",
    "from jinja2 import Environment, FileSystemLoader\n",
    "\n",
    "# import Tornado\n",
    "import tornado.ioloop\n",
    "import tornado.web\n",
    "\n",
    "# Load template file templates/site.html\n",
    "TEMPLATE_FILE = \"site.html\"\n",
    "templateLoader = FileSystemLoader( searchpath=\"templates/\" )\n",
    "templateEnv = Environment( loader=templateLoader )\n",
    "template = templateEnv.get_template(TEMPLATE_FILE)\n",
    "\n",
    "# List for famous movie rendering\n",
    "movie_list = [\n",
    "    [1,\"The Hitchhiker's Guide to the Galaxy\"],\n",
    "    [2,\"Back to the Future\"],\n",
    "    [3,\"The Matrix\"]\n",
    "]\n",
    "\n",
    "# template.render() returns a string containing the rendered HTML\n",
    "html_output = template.render(list=movie_list, title=\"My favorite movies\")\n",
    "\n",
    "# Handler for main page\n",
    "class MainHandler(tornado.web.RequestHandler):\n",
    "    def get(self):\n",
    "        # Returns rendered template string to the browser request\n",
    "        self.write(html_output)\n",
    "\n",
    "# Assign handler to the server root  (127.0.0.1:PORT/)\n",
    "application = tornado.web.Application([\n",
    "    (r\"/\", MainHandler),\n",
    "])\n",
    "PORT=8884\n",
    "if __name__ == \"__main__\":\n",
    "    # Set up the server\n",
    "    application.listen(PORT)\n",
    "    tornado.ioloop.IOLoop.instance().start()"
   ],
   "metadata": {
    "collapsed": false,
    "pycharm": {
     "name": "#%%\n"
    }
   }
  },
  {
   "cell_type": "code",
   "execution_count": 13,
   "outputs": [
    {
     "name": "stdout",
     "output_type": "stream",
     "text": [
      "hello world!\n"
     ]
    }
   ],
   "source": [
    "from mako.template import Template\n",
    "print(Template(\"hello ${data}!\").render(data=\"world\"))"
   ],
   "metadata": {
    "collapsed": false,
    "pycharm": {
     "name": "#%%\n"
    }
   }
  },
  {
   "cell_type": "code",
   "execution_count": null,
   "outputs": [],
   "source": [
    "\n"
   ],
   "metadata": {
    "collapsed": false,
    "pycharm": {
     "name": "#%%\n"
    }
   }
  }
 ],
 "metadata": {
  "kernelspec": {
   "display_name": "Python 3",
   "language": "python",
   "name": "python3"
  },
  "language_info": {
   "codemirror_mode": {
    "name": "ipython",
    "version": 2
   },
   "file_extension": ".py",
   "mimetype": "text/x-python",
   "name": "python",
   "nbconvert_exporter": "python",
   "pygments_lexer": "ipython2",
   "version": "2.7.6"
  }
 },
 "nbformat": 4,
 "nbformat_minor": 0
}